{
  "nbformat": 4,
  "nbformat_minor": 0,
  "metadata": {
    "colab": {
      "name": "pre-processing&Modeling.ipynb",
      "provenance": [],
      "collapsed_sections": [
        "ueetVpl1EBpz",
        "iCASyIW9EBp1",
        "sofR0LNdEBp2",
        "8ciSV187EBp3",
        "nVZ5fo7AEBp7",
        "h01Y1KL7E3Ee",
        "zUH1Z7Yl_LH7",
        "G1de2ht3Qf1Q",
        "LsFzlgcj_lSW",
        "SzdY1fpnC4iq",
        "4lCWapjEFs-Q",
        "wJIKeOQWIhPx",
        "Q_QaiJlDF7Et",
        "eMe1EPhSXkSk",
        "oiM2jrHR05pl",
        "rXLvHP121Sty"
      ],
      "machine_shape": "hm"
    },
    "kernelspec": {
      "display_name": "Python 3",
      "language": "python",
      "name": "python3"
    },
    "language_info": {
      "codemirror_mode": {
        "name": "ipython",
        "version": 3
      },
      "file_extension": ".py",
      "mimetype": "text/x-python",
      "name": "python",
      "nbconvert_exporter": "python",
      "pygments_lexer": "ipython3",
      "version": "3.7.10"
    },
    "accelerator": "GPU"
  },
  "cells": [
    {
      "cell_type": "markdown",
      "metadata": {
        "id": "sSpGx3D2EBpv"
      },
      "source": [
        "# Pre-processing & Modeling\n",
        "\n",
        "* __Pre-processing: read the image in DCM format and convert them to PNG format__\n",
        "\n",
        "* __Bulid and train a Image Classification__\n",
        "  - There are four classes:\n",
        "  \n",
        "        1. Typical Appearance: Multifocal bilateral, peripheral opacities with rounded morphology, lower lung–predominant distribution\n",
        "\n",
        "        2. Indeterminate Appearance: Absence of typical findings AND unilateral, central or upper lung predominant distribution\n",
        "\n",
        "        3. Atypical Appearance: Pneumothorax, pleural effusion, pulmonary edema, lobar consolidation, solitary lung nodule or mass, diffuse tiny nodules, cavity\n",
        "\n",
        "        4. Negative for Pneumonia: No lung opacities\n"
      ]
    },
    {
      "cell_type": "markdown",
      "metadata": {
        "id": "ueetVpl1EBpz"
      },
      "source": [
        "## 1 Installs and Imports "
      ]
    },
    {
      "cell_type": "code",
      "metadata": {
        "colab": {
          "base_uri": "https://localhost:8080/"
        },
        "id": "J0-4gme7FNmO",
        "outputId": "03dde10f-05aa-4079-8382-81e6ca107054"
      },
      "source": [
        "from google.colab import drive\n",
        "drive.mount('/content/drive')"
      ],
      "execution_count": 1,
      "outputs": [
        {
          "output_type": "stream",
          "text": [
            "Mounted at /content/drive\n"
          ],
          "name": "stdout"
        }
      ]
    },
    {
      "cell_type": "code",
      "metadata": {
        "id": "5GK7qzamEBp0"
      },
      "source": [
        "!pip install -c conda-forge gdcm -y"
      ],
      "execution_count": null,
      "outputs": []
    },
    {
      "cell_type": "code",
      "metadata": {
        "colab": {
          "base_uri": "https://localhost:8080/"
        },
        "id": "otHBXCRHIGIV",
        "outputId": "9a1bee94-013d-4021-e70f-60756b1748b8"
      },
      "source": [
        "!pip install tensorflow_addons"
      ],
      "execution_count": 2,
      "outputs": [
        {
          "output_type": "stream",
          "text": [
            "Collecting tensorflow_addons\n",
            "\u001b[?25l  Downloading https://files.pythonhosted.org/packages/66/4b/e893d194e626c24b3df2253066aa418f46a432fdb68250cde14bf9bb0700/tensorflow_addons-0.13.0-cp37-cp37m-manylinux2010_x86_64.whl (679kB)\n",
            "\u001b[K     |████████████████████████████████| 686kB 4.3MB/s \n",
            "\u001b[?25hRequirement already satisfied: typeguard>=2.7 in /usr/local/lib/python3.7/dist-packages (from tensorflow_addons) (2.7.1)\n",
            "Installing collected packages: tensorflow-addons\n",
            "Successfully installed tensorflow-addons-0.13.0\n"
          ],
          "name": "stdout"
        }
      ]
    },
    {
      "cell_type": "code",
      "metadata": {
        "id": "5k-up1O9EBp1"
      },
      "source": [
        "import os\n",
        "import math \n",
        "import pandas as pd\n",
        "import numpy as np\n",
        "import seaborn as sns\n",
        "#import pydicom\n",
        "import matplotlib.pyplot as plt\n",
        "import matplotlib.image as mpimg\n",
        "from PIL import Image\n",
        "\n",
        "from sklearn.model_selection import train_test_split\n",
        "\n",
        "from tensorflow.keras.preprocessing.image import ImageDataGenerator\n",
        "from tensorflow.keras.optimizers import Adam\n",
        "from tensorflow.keras.metrics import AUC\n",
        "from tensorflow.keras.applications.vgg16 import VGG16, preprocess_input\n",
        "from tensorflow.keras.models import Sequential\n",
        "from tensorflow.keras.layers import Dense, Flatten, Dropout, BatchNormalization,Activation\n",
        "from tensorflow.keras import optimizers \n",
        "import tensorflow_addons as tfa \n",
        "from keras.callbacks import EarlyStopping\n",
        "from keras import models  "
      ],
      "execution_count": 60,
      "outputs": []
    },
    {
      "cell_type": "markdown",
      "metadata": {
        "id": "iCASyIW9EBp1"
      },
      "source": [
        "## 2 Loading the Data"
      ]
    },
    {
      "cell_type": "code",
      "metadata": {
        "id": "I5xWMnVvEBp1",
        "outputId": "93d598bd-00d5-4aaf-e71c-dd590e0f42ed"
      },
      "source": [
        "path = '../input/covid19-detection-datawrangling-eda/data_information.csv'\n",
        "data_info_df = pd.read_csv(path)\n",
        "data_info_df.head()"
      ],
      "execution_count": null,
      "outputs": [
        {
          "output_type": "execute_result",
          "data": {
            "text/html": [
              "<div>\n",
              "<style scoped>\n",
              "    .dataframe tbody tr th:only-of-type {\n",
              "        vertical-align: middle;\n",
              "    }\n",
              "\n",
              "    .dataframe tbody tr th {\n",
              "        vertical-align: top;\n",
              "    }\n",
              "\n",
              "    .dataframe thead th {\n",
              "        text-align: right;\n",
              "    }\n",
              "</style>\n",
              "<table border=\"1\" class=\"dataframe\">\n",
              "  <thead>\n",
              "    <tr style=\"text-align: right;\">\n",
              "      <th></th>\n",
              "      <th>boxes</th>\n",
              "      <th>label</th>\n",
              "      <th>StudyInstanceUID</th>\n",
              "      <th>image_path</th>\n",
              "      <th>study_id</th>\n",
              "      <th>image_id</th>\n",
              "      <th>Negative for Pneumonia</th>\n",
              "      <th>Typical Appearance</th>\n",
              "      <th>Indeterminate Appearance</th>\n",
              "      <th>Atypical Appearance</th>\n",
              "      <th>num_boxes</th>\n",
              "      <th>class_name</th>\n",
              "    </tr>\n",
              "  </thead>\n",
              "  <tbody>\n",
              "    <tr>\n",
              "      <th>0</th>\n",
              "      <td>[{'x': 789.28836, 'y': 582.43035, 'width': 102...</td>\n",
              "      <td>opacity 1 789.28836 582.43035 1815.94498 2499....</td>\n",
              "      <td>5776db0cec75</td>\n",
              "      <td>../input/siim-covid19-detection/train/5776db0c...</td>\n",
              "      <td>5776db0cec75_study</td>\n",
              "      <td>000a312787f2_image</td>\n",
              "      <td>0</td>\n",
              "      <td>1</td>\n",
              "      <td>0</td>\n",
              "      <td>0</td>\n",
              "      <td>2</td>\n",
              "      <td>Typical Appearance</td>\n",
              "    </tr>\n",
              "    <tr>\n",
              "      <th>1</th>\n",
              "      <td>[]</td>\n",
              "      <td>none 1 0 0 1 1</td>\n",
              "      <td>ff0879eb20ed</td>\n",
              "      <td>../input/siim-covid19-detection/train/ff0879eb...</td>\n",
              "      <td>ff0879eb20ed_study</td>\n",
              "      <td>000c3a3f293f_image</td>\n",
              "      <td>1</td>\n",
              "      <td>0</td>\n",
              "      <td>0</td>\n",
              "      <td>0</td>\n",
              "      <td>0</td>\n",
              "      <td>Negative for Pneumonia</td>\n",
              "    </tr>\n",
              "    <tr>\n",
              "      <th>2</th>\n",
              "      <td>[{'x': 677.42216, 'y': 197.97662, 'width': 867...</td>\n",
              "      <td>opacity 1 677.42216 197.97662 1545.21983 1197....</td>\n",
              "      <td>9d514ce429a7</td>\n",
              "      <td>../input/siim-covid19-detection/train/9d514ce4...</td>\n",
              "      <td>9d514ce429a7_study</td>\n",
              "      <td>0012ff7358bc_image</td>\n",
              "      <td>0</td>\n",
              "      <td>1</td>\n",
              "      <td>0</td>\n",
              "      <td>0</td>\n",
              "      <td>2</td>\n",
              "      <td>Typical Appearance</td>\n",
              "    </tr>\n",
              "    <tr>\n",
              "      <th>3</th>\n",
              "      <td>[{'x': 2729, 'y': 2181.33331, 'width': 948.000...</td>\n",
              "      <td>opacity 1 2729 2181.33331 3677.00012 2785.33331</td>\n",
              "      <td>28dddc8559b2</td>\n",
              "      <td>../input/siim-covid19-detection/train/28dddc85...</td>\n",
              "      <td>28dddc8559b2_study</td>\n",
              "      <td>001398f4ff4f_image</td>\n",
              "      <td>0</td>\n",
              "      <td>0</td>\n",
              "      <td>0</td>\n",
              "      <td>1</td>\n",
              "      <td>1</td>\n",
              "      <td>Atypical Appearance</td>\n",
              "    </tr>\n",
              "    <tr>\n",
              "      <th>4</th>\n",
              "      <td>[{'x': 623.23328, 'y': 1050, 'width': 714, 'he...</td>\n",
              "      <td>opacity 1 623.23328 1050 1337.23328 2156 opaci...</td>\n",
              "      <td>dfd9fdd85a3e</td>\n",
              "      <td>../input/siim-covid19-detection/train/dfd9fdd8...</td>\n",
              "      <td>dfd9fdd85a3e_study</td>\n",
              "      <td>001bd15d1891_image</td>\n",
              "      <td>0</td>\n",
              "      <td>1</td>\n",
              "      <td>0</td>\n",
              "      <td>0</td>\n",
              "      <td>2</td>\n",
              "      <td>Typical Appearance</td>\n",
              "    </tr>\n",
              "  </tbody>\n",
              "</table>\n",
              "</div>"
            ],
            "text/plain": [
              "                                               boxes  \\\n",
              "0  [{'x': 789.28836, 'y': 582.43035, 'width': 102...   \n",
              "1                                                 []   \n",
              "2  [{'x': 677.42216, 'y': 197.97662, 'width': 867...   \n",
              "3  [{'x': 2729, 'y': 2181.33331, 'width': 948.000...   \n",
              "4  [{'x': 623.23328, 'y': 1050, 'width': 714, 'he...   \n",
              "\n",
              "                                               label StudyInstanceUID  \\\n",
              "0  opacity 1 789.28836 582.43035 1815.94498 2499....     5776db0cec75   \n",
              "1                                     none 1 0 0 1 1     ff0879eb20ed   \n",
              "2  opacity 1 677.42216 197.97662 1545.21983 1197....     9d514ce429a7   \n",
              "3    opacity 1 2729 2181.33331 3677.00012 2785.33331     28dddc8559b2   \n",
              "4  opacity 1 623.23328 1050 1337.23328 2156 opaci...     dfd9fdd85a3e   \n",
              "\n",
              "                                          image_path            study_id  \\\n",
              "0  ../input/siim-covid19-detection/train/5776db0c...  5776db0cec75_study   \n",
              "1  ../input/siim-covid19-detection/train/ff0879eb...  ff0879eb20ed_study   \n",
              "2  ../input/siim-covid19-detection/train/9d514ce4...  9d514ce429a7_study   \n",
              "3  ../input/siim-covid19-detection/train/28dddc85...  28dddc8559b2_study   \n",
              "4  ../input/siim-covid19-detection/train/dfd9fdd8...  dfd9fdd85a3e_study   \n",
              "\n",
              "             image_id  Negative for Pneumonia  Typical Appearance  \\\n",
              "0  000a312787f2_image                       0                   1   \n",
              "1  000c3a3f293f_image                       1                   0   \n",
              "2  0012ff7358bc_image                       0                   1   \n",
              "3  001398f4ff4f_image                       0                   0   \n",
              "4  001bd15d1891_image                       0                   1   \n",
              "\n",
              "   Indeterminate Appearance  Atypical Appearance  num_boxes  \\\n",
              "0                         0                    0          2   \n",
              "1                         0                    0          0   \n",
              "2                         0                    0          2   \n",
              "3                         0                    1          1   \n",
              "4                         0                    0          2   \n",
              "\n",
              "               class_name  \n",
              "0      Typical Appearance  \n",
              "1  Negative for Pneumonia  \n",
              "2      Typical Appearance  \n",
              "3     Atypical Appearance  \n",
              "4      Typical Appearance  "
            ]
          },
          "metadata": {
            "tags": []
          },
          "execution_count": 3
        }
      ]
    },
    {
      "cell_type": "markdown",
      "metadata": {
        "id": "sofR0LNdEBp2"
      },
      "source": [
        "## 3 Pre-processing"
      ]
    },
    {
      "cell_type": "markdown",
      "metadata": {
        "id": "MUBtzlpAEBp2"
      },
      "source": [
        "### 3.1 Create the Functions for Reading and Rescaling the Dcm Image "
      ]
    },
    {
      "cell_type": "code",
      "metadata": {
        "id": "K5YHqNa5EBp3"
      },
      "source": [
        "def read_dcm_image(image_info):\n",
        "    \"\"\"\n",
        "    This function is used to read the dcm image\n",
        "    \n",
        "    image_info: dictionary that includes the image id  \n",
        "                image path\n",
        "    return:\n",
        "    numpy array of the image pixels in range 0-255\n",
        "    \"\"\"\n",
        "    img = pydicom.dcmread(image_info['image_path'])\n",
        "    arr = img.pixel_array\n",
        "    arr = arr - np.min(arr)\n",
        "    arr = arr / np.max(arr)\n",
        "    arr = (arr * 255).astype(np.uint8)   \n",
        "    \n",
        "    return arr"
      ],
      "execution_count": null,
      "outputs": []
    },
    {
      "cell_type": "markdown",
      "metadata": {
        "id": "8ciSV187EBp3"
      },
      "source": [
        "### 3.2 Plot the Distribution Of the original and rescaled imamge"
      ]
    },
    {
      "cell_type": "code",
      "metadata": {
        "id": "EuxBTCoqEBp4",
        "outputId": "9f7bdd75-0d83-4079-f02b-82639ea28372"
      },
      "source": [
        "# before rescale\n",
        "im_origin = pydicom.dcmread(data_info_df.image_path[10]).pixel_array\n",
        "plt.hist(im_origin[0], bins=20)"
      ],
      "execution_count": null,
      "outputs": [
        {
          "output_type": "execute_result",
          "data": {
            "text/plain": [
              "(array([2451.,   80.,   64.,   25.,   29.,   32.,   40.,   59.,   56.,\n",
              "          47.,   40.,   61.,   39.,   84.,  119.,  167.,  245.,  443.,\n",
              "         132.,   35.]),\n",
              " array([   0.  ,  204.75,  409.5 ,  614.25,  819.  , 1023.75, 1228.5 ,\n",
              "        1433.25, 1638.  , 1842.75, 2047.5 , 2252.25, 2457.  , 2661.75,\n",
              "        2866.5 , 3071.25, 3276.  , 3480.75, 3685.5 , 3890.25, 4095.  ]),\n",
              " <BarContainer object of 20 artists>)"
            ]
          },
          "metadata": {
            "tags": []
          },
          "execution_count": 5
        },
        {
          "output_type": "display_data",
          "data": {
            "image/png": "[encoded data removed]",
            "text/plain": [
              "<Figure size 432x288 with 1 Axes>"
            ]
          },
          "metadata": {
            "tags": []
          }
        }
      ]
    },
    {
      "cell_type": "code",
      "metadata": {
        "id": "R0g2Jf5hEBp4",
        "outputId": "ac64106b-675a-4f72-e580-71bd18f7301e"
      },
      "source": [
        "# show the original image\n",
        "plt.imshow(im_origin)"
      ],
      "execution_count": null,
      "outputs": [
        {
          "output_type": "execute_result",
          "data": {
            "text/plain": [
              "<matplotlib.image.AxesImage at 0x7f640a4fbf90>"
            ]
          },
          "metadata": {
            "tags": []
          },
          "execution_count": 6
        },
        {
          "output_type": "display_data",
          "data": {
            "image/png": "[encoded data removed]",
            "text/plain": [
              "<Figure size 432x288 with 1 Axes>"
            ]
          },
          "metadata": {
            "tags": []
          }
        }
      ]
    },
    {
      "cell_type": "code",
      "metadata": {
        "id": "-yrOsUc9EBp5",
        "outputId": "650d942c-2904-45f1-82e1-44bf732dab49"
      },
      "source": [
        "# after rescale\n",
        "im_resacal = read_dcm_image(data_info_df.loc[10,:])\n",
        "plt.hist(im_resacal, bins=20)"
      ],
      "execution_count": null,
      "outputs": [
        {
          "output_type": "execute_result",
          "data": {
            "text/plain": [
              "(array([[1176.,   65.,   36., ...,    0.,    0.,    0.],\n",
              "        [1172.,   69.,   37., ...,    0.,    0.,    0.],\n",
              "        [1176.,   60.,   39., ...,    0.,    0.,    0.],\n",
              "        ...,\n",
              "        [   5.,   30.,   74., ...,   88.,   86.,  306.],\n",
              "        [   0.,    0.,    0., ...,  260.,  622., 2195.],\n",
              "        [   0.,    0.,    0., ...,    9.,   39., 3432.]]),\n",
              " array([  0.  ,  12.75,  25.5 ,  38.25,  51.  ,  63.75,  76.5 ,  89.25,\n",
              "        102.  , 114.75, 127.5 , 140.25, 153.  , 165.75, 178.5 , 191.25,\n",
              "        204.  , 216.75, 229.5 , 242.25, 255.  ]),\n",
              " <a list of 4248 BarContainer objects>)"
            ]
          },
          "metadata": {
            "tags": []
          },
          "execution_count": 8
        },
        {
          "output_type": "display_data",
          "data": {
            "image/png": "[encoded data removed]",
            "text/plain": [
              "<Figure size 432x288 with 1 Axes>"
            ]
          },
          "metadata": {
            "tags": []
          }
        }
      ]
    },
    {
      "cell_type": "code",
      "metadata": {
        "id": "TKi7HMTKEBp7",
        "outputId": "82ccbaf6-04f4-4299-9c7c-666f59aaeacc"
      },
      "source": [
        "#show the images after rescale\n",
        "plt.imshow(im_resacal)"
      ],
      "execution_count": null,
      "outputs": [
        {
          "output_type": "execute_result",
          "data": {
            "text/plain": [
              "<matplotlib.image.AxesImage at 0x7f640a50a790>"
            ]
          },
          "metadata": {
            "tags": []
          },
          "execution_count": 9
        },
        {
          "output_type": "display_data",
          "data": {
            "image/png": "[encoded data removed]",
            "text/plain": [
              "<Figure size 432x288 with 1 Axes>"
            ]
          },
          "metadata": {
            "tags": []
          }
        }
      ]
    },
    {
      "cell_type": "markdown",
      "metadata": {
        "id": "nVZ5fo7AEBp7"
      },
      "source": [
        "### 3.3 Rescale All the Image and Save Them to PNG Format"
      ]
    },
    {
      "cell_type": "code",
      "metadata": {
        "id": "QF6SRIbIEBp7"
      },
      "source": [
        "image_id = []\n",
        "image_path = []\n",
        "image_class = []\n",
        "\n",
        "save_dir = './train/'\n",
        "\n",
        "os.makedirs(save_dir, exist_ok=True)\n",
        "\n",
        "for i in range(len(data_info_df)):\n",
        "    # set keep_ratio=True to have original aspect ratio\n",
        "    item = data_info_df.loc[i,:]\n",
        "    save_path = os.path.join(save_dir, item['image_id']+'.png')\n",
        "    rescale_im = read_dcm_image(item)\n",
        "    image_id.append(item['image_id'])\n",
        "    image_class.append(item['class_name'])\n",
        "    image_path.append(save_path)\n",
        "    im = Image.fromarray(rescale_im)\n",
        "    im.save(save_path)"
      ],
      "execution_count": null,
      "outputs": []
    },
    {
      "cell_type": "code",
      "metadata": {
        "id": "feE0NFlUEBp8"
      },
      "source": [
        "# Create a data frame containing the information of the images\n",
        "\n",
        "rescaled_image_info = pd.DataFrame({'image_id':image_id,'image_path': image_path, 'image_class':image_class})\n",
        "rescaled_image_info.head()\n",
        "rescaled_image_info.to_csv('./rescaled_image_info.csv',index=False)"
      ],
      "execution_count": null,
      "outputs": []
    },
    {
      "cell_type": "code",
      "metadata": {
        "id": "drnYxiQoEBp_"
      },
      "source": [
        "rescaled_image_info.shape"
      ],
      "execution_count": null,
      "outputs": []
    },
    {
      "cell_type": "markdown",
      "metadata": {
        "id": "h01Y1KL7E3Ee"
      },
      "source": [
        "## 4 Get the Rescaled Image Data"
      ]
    },
    {
      "cell_type": "markdown",
      "metadata": {
        "id": "zUH1Z7Yl_LH7"
      },
      "source": [
        "### 4.1 Read the CSV File From to Get the Rescaled Image Path and the Image Class"
      ]
    },
    {
      "cell_type": "code",
      "metadata": {
        "colab": {
          "base_uri": "https://localhost:8080/",
          "height": 202
        },
        "id": "55jnHQE99h1d",
        "outputId": "5dcba957-5e44-45e8-a30c-21ffb02256a3"
      },
      "source": [
        "img_info_df_path = '/content/drive/MyDrive/DeepLearningModel/SIIM-FISABIO-RSNA_COVID-19_Detection/data/rescaled_image_info.csv'\n",
        "subpath = '/content/drive/MyDrive/DeepLearningModel/SIIM-FISABIO-RSNA_COVID-19_Detection/data/train'\n",
        "img_info = pd.read_csv(img_info_df_path)\n",
        "img_info['image_path'] = img_info['image_path'].str.replace('./train', subpath)\n",
        "img_info.head()"
      ],
      "execution_count": 4,
      "outputs": [
        {
          "output_type": "execute_result",
          "data": {
            "text/html": [
              "<div>\n",
              "<style scoped>\n",
              "    .dataframe tbody tr th:only-of-type {\n",
              "        vertical-align: middle;\n",
              "    }\n",
              "\n",
              "    .dataframe tbody tr th {\n",
              "        vertical-align: top;\n",
              "    }\n",
              "\n",
              "    .dataframe thead th {\n",
              "        text-align: right;\n",
              "    }\n",
              "</style>\n",
              "<table border=\"1\" class=\"dataframe\">\n",
              "  <thead>\n",
              "    <tr style=\"text-align: right;\">\n",
              "      <th></th>\n",
              "      <th>image_id</th>\n",
              "      <th>image_path</th>\n",
              "      <th>image_class</th>\n",
              "    </tr>\n",
              "  </thead>\n",
              "  <tbody>\n",
              "    <tr>\n",
              "      <th>0</th>\n",
              "      <td>000a312787f2_image</td>\n",
              "      <td>/content/drive/MyDrive/DeepLearningModel/SIIM-...</td>\n",
              "      <td>Typical Appearance</td>\n",
              "    </tr>\n",
              "    <tr>\n",
              "      <th>1</th>\n",
              "      <td>000c3a3f293f_image</td>\n",
              "      <td>/content/drive/MyDrive/DeepLearningModel/SIIM-...</td>\n",
              "      <td>Negative for Pneumonia</td>\n",
              "    </tr>\n",
              "    <tr>\n",
              "      <th>2</th>\n",
              "      <td>0012ff7358bc_image</td>\n",
              "      <td>/content/drive/MyDrive/DeepLearningModel/SIIM-...</td>\n",
              "      <td>Typical Appearance</td>\n",
              "    </tr>\n",
              "    <tr>\n",
              "      <th>3</th>\n",
              "      <td>001398f4ff4f_image</td>\n",
              "      <td>/content/drive/MyDrive/DeepLearningModel/SIIM-...</td>\n",
              "      <td>Atypical Appearance</td>\n",
              "    </tr>\n",
              "    <tr>\n",
              "      <th>4</th>\n",
              "      <td>001bd15d1891_image</td>\n",
              "      <td>/content/drive/MyDrive/DeepLearningModel/SIIM-...</td>\n",
              "      <td>Typical Appearance</td>\n",
              "    </tr>\n",
              "  </tbody>\n",
              "</table>\n",
              "</div>"
            ],
            "text/plain": [
              "             image_id  ...             image_class\n",
              "0  000a312787f2_image  ...      Typical Appearance\n",
              "1  000c3a3f293f_image  ...  Negative for Pneumonia\n",
              "2  0012ff7358bc_image  ...      Typical Appearance\n",
              "3  001398f4ff4f_image  ...     Atypical Appearance\n",
              "4  001bd15d1891_image  ...      Typical Appearance\n",
              "\n",
              "[5 rows x 3 columns]"
            ]
          },
          "metadata": {
            "tags": []
          },
          "execution_count": 4
        }
      ]
    },
    {
      "cell_type": "markdown",
      "metadata": {
        "id": "G1de2ht3Qf1Q"
      },
      "source": [
        "### 4.2 Split the DataFrame to Train and Test Set"
      ]
    },
    {
      "cell_type": "code",
      "metadata": {
        "id": "hr22QEZ3TZg8"
      },
      "source": [
        "train, test = train_test_split(img_info, test_size=0.2, random_state=42, shuffle=True)\n",
        "train = train.reset_index()\n",
        "test = test.reset_index()"
      ],
      "execution_count": 5,
      "outputs": []
    },
    {
      "cell_type": "code",
      "metadata": {
        "colab": {
          "base_uri": "https://localhost:8080/",
          "height": 445
        },
        "id": "DZRigVQuUXGl",
        "outputId": "463c7735-1019-4948-b8da-f9a080acc669"
      },
      "source": [
        "sns.countplot(train.image_class)\n",
        "plt.xticks(rotation=45)"
      ],
      "execution_count": 6,
      "outputs": [
        {
          "output_type": "stream",
          "text": [
            "/usr/local/lib/python3.7/dist-packages/seaborn/_decorators.py:43: FutureWarning: Pass the following variable as a keyword arg: x. From version 0.12, the only valid positional argument will be `data`, and passing other arguments without an explicit keyword will result in an error or misinterpretation.\n",
            "  FutureWarning\n"
          ],
          "name": "stderr"
        },
        {
          "output_type": "execute_result",
          "data": {
            "text/plain": [
              "(array([0, 1, 2, 3]), <a list of 4 Text major ticklabel objects>)"
            ]
          },
          "metadata": {
            "tags": []
          },
          "execution_count": 6
        },
        {
          "output_type": "display_data",
          "data": {
            "image/png": "[encoded data removed]",
            "text/plain": [
              "<Figure size 432x288 with 1 Axes>"
            ]
          },
          "metadata": {
            "tags": [],
            "needs_background": "light"
          }
        }
      ]
    },
    {
      "cell_type": "code",
      "metadata": {
        "colab": {
          "base_uri": "https://localhost:8080/"
        },
        "id": "COrmTyBxWR89",
        "outputId": "0001eedd-440a-4658-fd5f-52c87053fd3d"
      },
      "source": [
        "train.shape"
      ],
      "execution_count": 7,
      "outputs": [
        {
          "output_type": "execute_result",
          "data": {
            "text/plain": [
              "(4843, 4)"
            ]
          },
          "metadata": {
            "tags": []
          },
          "execution_count": 7
        }
      ]
    },
    {
      "cell_type": "code",
      "metadata": {
        "colab": {
          "base_uri": "https://localhost:8080/",
          "height": 445
        },
        "id": "u4jHM_6GT1cN",
        "outputId": "516c7588-fde1-453f-d9db-1e86c1db74ec"
      },
      "source": [
        "sns.countplot(test.image_class)\n",
        "plt.xticks(rotation=45)"
      ],
      "execution_count": 8,
      "outputs": [
        {
          "output_type": "stream",
          "text": [
            "/usr/local/lib/python3.7/dist-packages/seaborn/_decorators.py:43: FutureWarning: Pass the following variable as a keyword arg: x. From version 0.12, the only valid positional argument will be `data`, and passing other arguments without an explicit keyword will result in an error or misinterpretation.\n",
            "  FutureWarning\n"
          ],
          "name": "stderr"
        },
        {
          "output_type": "execute_result",
          "data": {
            "text/plain": [
              "(array([0, 1, 2, 3]), <a list of 4 Text major ticklabel objects>)"
            ]
          },
          "metadata": {
            "tags": []
          },
          "execution_count": 8
        },
        {
          "output_type": "display_data",
          "data": {
            "image/png": "[encoded data removed]",
            "text/plain": [
              "<Figure size 432x288 with 1 Axes>"
            ]
          },
          "metadata": {
            "tags": [],
            "needs_background": "light"
          }
        }
      ]
    },
    {
      "cell_type": "code",
      "metadata": {
        "colab": {
          "base_uri": "https://localhost:8080/"
        },
        "id": "T1WYH8WOWVvu",
        "outputId": "c7203efd-3922-47f3-b8e8-451c86eb3386"
      },
      "source": [
        "test.shape"
      ],
      "execution_count": 9,
      "outputs": [
        {
          "output_type": "execute_result",
          "data": {
            "text/plain": [
              "(1211, 4)"
            ]
          },
          "metadata": {
            "tags": []
          },
          "execution_count": 9
        }
      ]
    },
    {
      "cell_type": "markdown",
      "metadata": {
        "id": "SzdY1fpnC4iq"
      },
      "source": [
        "## 5 Vgg16 Model \n",
        "\n",
        "* Can not apply pre-train model in this case because the image set are all 2 dimension"
      ]
    },
    {
      "cell_type": "markdown",
      "metadata": {
        "id": "Z1aVSs-NEAvq"
      },
      "source": [
        "### 5.1 Create the Image Data Generator for Training and Test Set\n",
        "\n",
        "* Apply image augmentation to train set. Note: ImageDataGenerator will NOT add new images to your data set in a sense that it will not make your epochs bigger. Instead, in each epoch it will provide slightly altered images (depending on your configuration). It will always generate new images, no matter how many epochs you have. So in each epoch model will train on different images, but not too different. This should prevent overfitting and in some way simulates online learning."
      ]
    },
    {
      "cell_type": "code",
      "metadata": {
        "colab": {
          "base_uri": "https://localhost:8080/"
        },
        "id": "ZuBR2y5aEAvr",
        "outputId": "45e30cc2-ea91-4e16-db8b-fdafd32c8412"
      },
      "source": [
        "batch_size = 64\n",
        "\n",
        "# rescale each pixel into range [0,1]\n",
        "train_datagen = ImageDataGenerator(rescale=1.0/255.0, \n",
        "                             rotation_range = 15,\n",
        "                             width_shift_range=0.2,\n",
        "                             height_shift_range=0.2,\n",
        "                             horizontal_flip = True\n",
        "                             )\n",
        "test_datagen = ImageDataGenerator(rescale=1.0/255.0)\n",
        "\n",
        "train_set = train_datagen.flow_from_dataframe(\n",
        "    dataframe=train,\n",
        "    x_col='image_path',\n",
        "    y_col='image_class',\n",
        "    shuffle=True,\n",
        "    target_size=(224,224),\n",
        "    batch_size=batch_size,\n",
        "    color_mode='grayscale',\n",
        "    class_mode='categorical',\n",
        "    #subset='training',\n",
        "    seed=42)\n",
        "\n",
        "validation_set = test_datagen.flow_from_dataframe(\n",
        "    dataframe=test,\n",
        "    x_col='image_path',\n",
        "    y_col='image_class', \n",
        "    shuffle=True,\n",
        "    target_size=(224,224),\n",
        "    batch_size=batch_size,\n",
        "    color_mode='grayscale',\n",
        "    class_mode='categorical',\n",
        "    #subset='validation',\n",
        "    seed=42)"
      ],
      "execution_count": null,
      "outputs": [
        {
          "output_type": "stream",
          "text": [
            "Found 4843 validated image filenames belonging to 4 classes.\n",
            "Found 1211 validated image filenames belonging to 4 classes.\n"
          ],
          "name": "stdout"
        }
      ]
    },
    {
      "cell_type": "code",
      "metadata": {
        "colab": {
          "base_uri": "https://localhost:8080/"
        },
        "id": "7dUNEaaKEAvs",
        "outputId": "753a4bdc-cb5f-42c1-e36c-51fa6ec30b29"
      },
      "source": [
        "train_set[0][0].shape"
      ],
      "execution_count": null,
      "outputs": [
        {
          "output_type": "execute_result",
          "data": {
            "text/plain": [
              "(64, 224, 224, 1)"
            ]
          },
          "metadata": {
            "tags": []
          },
          "execution_count": 61
        }
      ]
    },
    {
      "cell_type": "markdown",
      "metadata": {
        "id": "QKrnyUrvEAvt"
      },
      "source": [
        "* Batch size is 64 for training set, each image with size 224\\*224\\*1"
      ]
    },
    {
      "cell_type": "markdown",
      "metadata": {
        "id": "4lCWapjEFs-Q"
      },
      "source": [
        "### 5.2 Build the Vgg16 Model "
      ]
    },
    {
      "cell_type": "code",
      "metadata": {
        "colab": {
          "base_uri": "https://localhost:8080/"
        },
        "id": "06WqgV2BCf0W",
        "outputId": "29d01c8a-4884-4c59-cc80-acadf4ecad71"
      },
      "source": [
        "input_shape = (224,224,1)\n",
        "vgg16 =VGG16(include_top=False,\n",
        "             input_shape = input_shape,\n",
        "             pooling = 'avg', # can be 'avg' or 'max'\n",
        "             weights=None  # set weight to None beaause I am not using the pretrain model\n",
        "             ) \n",
        "vgg16.summary()"
      ],
      "execution_count": 62,
      "outputs": [
        {
          "output_type": "stream",
          "text": [
            "Model: \"vgg16\"\n",
            "_________________________________________________________________\n",
            "Layer (type)                 Output Shape              Param #   \n",
            "=================================================================\n",
            "input_4 (InputLayer)         [(None, 224, 224, 1)]     0         \n",
            "_________________________________________________________________\n",
            "block1_conv1 (Conv2D)        (None, 224, 224, 64)      640       \n",
            "_________________________________________________________________\n",
            "block1_conv2 (Conv2D)        (None, 224, 224, 64)      36928     \n",
            "_________________________________________________________________\n",
            "block1_pool (MaxPooling2D)   (None, 112, 112, 64)      0         \n",
            "_________________________________________________________________\n",
            "block2_conv1 (Conv2D)        (None, 112, 112, 128)     73856     \n",
            "_________________________________________________________________\n",
            "block2_conv2 (Conv2D)        (None, 112, 112, 128)     147584    \n",
            "_________________________________________________________________\n",
            "block2_pool (MaxPooling2D)   (None, 56, 56, 128)       0         \n",
            "_________________________________________________________________\n",
            "block3_conv1 (Conv2D)        (None, 56, 56, 256)       295168    \n",
            "_________________________________________________________________\n",
            "block3_conv2 (Conv2D)        (None, 56, 56, 256)       590080    \n",
            "_________________________________________________________________\n",
            "block3_conv3 (Conv2D)        (None, 56, 56, 256)       590080    \n",
            "_________________________________________________________________\n",
            "block3_pool (MaxPooling2D)   (None, 28, 28, 256)       0         \n",
            "_________________________________________________________________\n",
            "block4_conv1 (Conv2D)        (None, 28, 28, 512)       1180160   \n",
            "_________________________________________________________________\n",
            "block4_conv2 (Conv2D)        (None, 28, 28, 512)       2359808   \n",
            "_________________________________________________________________\n",
            "block4_conv3 (Conv2D)        (None, 28, 28, 512)       2359808   \n",
            "_________________________________________________________________\n",
            "block4_pool (MaxPooling2D)   (None, 14, 14, 512)       0         \n",
            "_________________________________________________________________\n",
            "block5_conv1 (Conv2D)        (None, 14, 14, 512)       2359808   \n",
            "_________________________________________________________________\n",
            "block5_conv2 (Conv2D)        (None, 14, 14, 512)       2359808   \n",
            "_________________________________________________________________\n",
            "block5_conv3 (Conv2D)        (None, 14, 14, 512)       2359808   \n",
            "_________________________________________________________________\n",
            "block5_pool (MaxPooling2D)   (None, 7, 7, 512)         0         \n",
            "_________________________________________________________________\n",
            "global_average_pooling2d_3 ( (None, 512)               0         \n",
            "=================================================================\n",
            "Total params: 14,713,536\n",
            "Trainable params: 14,713,536\n",
            "Non-trainable params: 0\n",
            "_________________________________________________________________\n"
          ],
          "name": "stdout"
        }
      ]
    },
    {
      "cell_type": "code",
      "metadata": {
        "colab": {
          "base_uri": "https://localhost:8080/"
        },
        "id": "ish3tdz0CRk1",
        "outputId": "d14d1094-5ff6-4561-df17-4e3deb10c481"
      },
      "source": [
        "# Adding some layers to the end of the Vgg16 model\n",
        "\n",
        "model = Sequential([\n",
        "    vgg16,\n",
        "    Dense(512, activation='relu'),\n",
        "    BatchNormalization(),\n",
        "    Dropout(0.40),\n",
        "    #Dense(512, activation='relu'),\n",
        "    #BatchNormalization(),\n",
        "    #Dropout(0.35),\n",
        "    #Dense(256, activation='relu'),\n",
        "    #BatchNormalization(),\n",
        "    #Dropout(0.40),\n",
        "    Dense(256, activation='relu'),\n",
        "    BatchNormalization(),\n",
        "    Dropout(0.35),\n",
        "    #Dense(128, activation='relu'),\n",
        "    #BatchNormalization(),\n",
        "    #Dropout(0.35),\n",
        "    Flatten(),\n",
        "    Dense(4,activation='softmax')\n",
        "    ])\n",
        "\n",
        "model.summary()"
      ],
      "execution_count": 63,
      "outputs": [
        {
          "output_type": "stream",
          "text": [
            "Model: \"sequential_3\"\n",
            "_________________________________________________________________\n",
            "Layer (type)                 Output Shape              Param #   \n",
            "=================================================================\n",
            "vgg16 (Functional)           (None, 512)               14713536  \n",
            "_________________________________________________________________\n",
            "dense_9 (Dense)              (None, 512)               262656    \n",
            "_________________________________________________________________\n",
            "batch_normalization_6 (Batch (None, 512)               2048      \n",
            "_________________________________________________________________\n",
            "dropout_6 (Dropout)          (None, 512)               0         \n",
            "_________________________________________________________________\n",
            "dense_10 (Dense)             (None, 256)               131328    \n",
            "_________________________________________________________________\n",
            "batch_normalization_7 (Batch (None, 256)               1024      \n",
            "_________________________________________________________________\n",
            "dropout_7 (Dropout)          (None, 256)               0         \n",
            "_________________________________________________________________\n",
            "flatten_3 (Flatten)          (None, 256)               0         \n",
            "_________________________________________________________________\n",
            "dense_11 (Dense)             (None, 4)                 1028      \n",
            "=================================================================\n",
            "Total params: 15,111,620\n",
            "Trainable params: 15,110,084\n",
            "Non-trainable params: 1,536\n",
            "_________________________________________________________________\n"
          ],
          "name": "stdout"
        }
      ]
    },
    {
      "cell_type": "markdown",
      "metadata": {
        "id": "wJIKeOQWIhPx"
      },
      "source": [
        "### 5.3 Train the Vgg16 Model"
      ]
    },
    {
      "cell_type": "code",
      "metadata": {
        "id": "4CNwqGK1Gbf0"
      },
      "source": [
        "f1Score = tfa.metrics.F1Score(num_classes=4, threshold=0.5, average='micro')\n",
        "\n",
        "model.compile(\n",
        "    optimizer = optimizers.Adam(learning_rate=0.00001), \n",
        "    loss = 'categorical_crossentropy',               \n",
        "    metrics=['accuracy'])#,f1Score])"
      ],
      "execution_count": 64,
      "outputs": []
    },
    {
      "cell_type": "code",
      "metadata": {
        "colab": {
          "base_uri": "https://localhost:8080/"
        },
        "id": "uhAyIp8EId-r",
        "outputId": "e29f83e6-bf4a-4a8c-b5e8-9f0ae9b4d6b2"
      },
      "source": [
        "callback = EarlyStopping(\n",
        "        monitor='val_loss', min_delta=0, patience=0, verbose=0,\n",
        "        mode='auto', baseline=None, restore_best_weights=False)\n",
        "\n",
        "history = model.fit(train_set, \n",
        "                    validation_data = validation_set, \n",
        "                    steps_per_epoch=train_set.n//train_set.batch_size,\n",
        "                    validation_steps=validation_set.n//validation_set.batch_size,\n",
        "                    epochs = 100,\n",
        "                    #callbacks=[callback]\n",
        "                             )"
      ],
      "execution_count": 72,
      "outputs": [
        {
          "output_type": "stream",
          "text": [
            "Epoch 1/100\n",
            "75/75 [==============================] - 237s 3s/step - loss: 1.0248 - accuracy: 0.6100 - val_loss: 1.0362 - val_accuracy: 0.6128\n",
            "Epoch 2/100\n",
            "75/75 [==============================] - 231s 3s/step - loss: 1.0162 - accuracy: 0.6135 - val_loss: 1.0642 - val_accuracy: 0.5998\n",
            "Epoch 3/100\n",
            "75/75 [==============================] - 232s 3s/step - loss: 1.0257 - accuracy: 0.6054 - val_loss: 1.0003 - val_accuracy: 0.6319\n",
            "Epoch 4/100\n",
            "75/75 [==============================] - 232s 3s/step - loss: 1.0143 - accuracy: 0.6139 - val_loss: 1.0399 - val_accuracy: 0.6267\n",
            "Epoch 5/100\n",
            "75/75 [==============================] - 231s 3s/step - loss: 1.0167 - accuracy: 0.6091 - val_loss: 0.9935 - val_accuracy: 0.6354\n",
            "Epoch 6/100\n",
            "75/75 [==============================] - 231s 3s/step - loss: 1.0090 - accuracy: 0.6135 - val_loss: 1.0644 - val_accuracy: 0.6059\n",
            "Epoch 7/100\n",
            "75/75 [==============================] - 231s 3s/step - loss: 1.0072 - accuracy: 0.6091 - val_loss: 1.4749 - val_accuracy: 0.5043\n",
            "Epoch 8/100\n",
            "75/75 [==============================] - 232s 3s/step - loss: 1.0129 - accuracy: 0.6047 - val_loss: 1.7185 - val_accuracy: 0.4340\n",
            "Epoch 9/100\n",
            "75/75 [==============================] - 232s 3s/step - loss: 1.0112 - accuracy: 0.6056 - val_loss: 0.9965 - val_accuracy: 0.6363\n",
            "Epoch 10/100\n",
            "75/75 [==============================] - 232s 3s/step - loss: 1.0075 - accuracy: 0.6125 - val_loss: 1.3811 - val_accuracy: 0.4635\n",
            "Epoch 11/100\n",
            "75/75 [==============================] - 232s 3s/step - loss: 1.0112 - accuracy: 0.6072 - val_loss: 1.2781 - val_accuracy: 0.5052\n",
            "Epoch 12/100\n",
            "75/75 [==============================] - 232s 3s/step - loss: 0.9999 - accuracy: 0.6114 - val_loss: 0.9581 - val_accuracy: 0.6441\n",
            "Epoch 13/100\n",
            "75/75 [==============================] - 232s 3s/step - loss: 1.0019 - accuracy: 0.6144 - val_loss: 1.1349 - val_accuracy: 0.5512\n",
            "Epoch 14/100\n",
            "75/75 [==============================] - 232s 3s/step - loss: 0.9918 - accuracy: 0.6225 - val_loss: 2.2038 - val_accuracy: 0.3299\n",
            "Epoch 15/100\n",
            "75/75 [==============================] - 232s 3s/step - loss: 0.9888 - accuracy: 0.6198 - val_loss: 1.0722 - val_accuracy: 0.5972\n",
            "Epoch 16/100\n",
            "75/75 [==============================] - 232s 3s/step - loss: 0.9852 - accuracy: 0.6198 - val_loss: 1.1205 - val_accuracy: 0.6076\n",
            "Epoch 17/100\n",
            "75/75 [==============================] - 232s 3s/step - loss: 0.9932 - accuracy: 0.6150 - val_loss: 0.9853 - val_accuracy: 0.6285\n",
            "Epoch 18/100\n",
            "75/75 [==============================] - 232s 3s/step - loss: 0.9876 - accuracy: 0.6175 - val_loss: 1.1235 - val_accuracy: 0.6033\n",
            "Epoch 19/100\n",
            "75/75 [==============================] - 232s 3s/step - loss: 0.9851 - accuracy: 0.6123 - val_loss: 1.0515 - val_accuracy: 0.6293\n",
            "Epoch 20/100\n",
            "75/75 [==============================] - 232s 3s/step - loss: 0.9822 - accuracy: 0.6198 - val_loss: 0.9987 - val_accuracy: 0.6276\n",
            "Epoch 21/100\n",
            "75/75 [==============================] - 231s 3s/step - loss: 0.9820 - accuracy: 0.6118 - val_loss: 1.0317 - val_accuracy: 0.6259\n",
            "Epoch 22/100\n",
            "75/75 [==============================] - 231s 3s/step - loss: 0.9827 - accuracy: 0.6202 - val_loss: 1.1359 - val_accuracy: 0.5694\n",
            "Epoch 23/100\n",
            "75/75 [==============================] - 231s 3s/step - loss: 0.9827 - accuracy: 0.6152 - val_loss: 0.9747 - val_accuracy: 0.6536\n",
            "Epoch 24/100\n",
            "75/75 [==============================] - 231s 3s/step - loss: 0.9802 - accuracy: 0.6175 - val_loss: 0.9929 - val_accuracy: 0.6424\n",
            "Epoch 25/100\n",
            "75/75 [==============================] - 232s 3s/step - loss: 0.9732 - accuracy: 0.6196 - val_loss: 1.1162 - val_accuracy: 0.5894\n",
            "Epoch 26/100\n",
            "75/75 [==============================] - 232s 3s/step - loss: 0.9778 - accuracy: 0.6190 - val_loss: 0.9390 - val_accuracy: 0.6510\n",
            "Epoch 27/100\n",
            "75/75 [==============================] - 232s 3s/step - loss: 0.9717 - accuracy: 0.6206 - val_loss: 1.0747 - val_accuracy: 0.6024\n",
            "Epoch 28/100\n",
            "75/75 [==============================] - 233s 3s/step - loss: 0.9714 - accuracy: 0.6217 - val_loss: 1.1722 - val_accuracy: 0.5885\n",
            "Epoch 29/100\n",
            "75/75 [==============================] - 232s 3s/step - loss: 0.9708 - accuracy: 0.6192 - val_loss: 1.2133 - val_accuracy: 0.5521\n",
            "Epoch 30/100\n",
            "75/75 [==============================] - 234s 3s/step - loss: 0.9765 - accuracy: 0.6217 - val_loss: 1.0541 - val_accuracy: 0.5972\n",
            "Epoch 31/100\n",
            "75/75 [==============================] - 232s 3s/step - loss: 0.9582 - accuracy: 0.6309 - val_loss: 1.1808 - val_accuracy: 0.5642\n",
            "Epoch 32/100\n",
            "75/75 [==============================] - 232s 3s/step - loss: 0.9629 - accuracy: 0.6244 - val_loss: 1.2315 - val_accuracy: 0.5477\n",
            "Epoch 33/100\n",
            "75/75 [==============================] - 232s 3s/step - loss: 0.9565 - accuracy: 0.6317 - val_loss: 1.1288 - val_accuracy: 0.5851\n",
            "Epoch 34/100\n",
            "75/75 [==============================] - 232s 3s/step - loss: 0.9756 - accuracy: 0.6257 - val_loss: 1.1384 - val_accuracy: 0.5972\n",
            "Epoch 35/100\n",
            "75/75 [==============================] - 232s 3s/step - loss: 0.9580 - accuracy: 0.6215 - val_loss: 1.0312 - val_accuracy: 0.5946\n",
            "Epoch 36/100\n",
            "75/75 [==============================] - 232s 3s/step - loss: 0.9571 - accuracy: 0.6263 - val_loss: 1.0005 - val_accuracy: 0.6372\n",
            "Epoch 37/100\n",
            "75/75 [==============================] - 232s 3s/step - loss: 0.9560 - accuracy: 0.6288 - val_loss: 1.0824 - val_accuracy: 0.6224\n",
            "Epoch 38/100\n",
            "75/75 [==============================] - 234s 3s/step - loss: 0.9583 - accuracy: 0.6225 - val_loss: 0.9695 - val_accuracy: 0.6398\n",
            "Epoch 39/100\n",
            "75/75 [==============================] - 233s 3s/step - loss: 0.9540 - accuracy: 0.6271 - val_loss: 0.9622 - val_accuracy: 0.6467\n",
            "Epoch 40/100\n",
            "75/75 [==============================] - 233s 3s/step - loss: 0.9522 - accuracy: 0.6294 - val_loss: 1.0224 - val_accuracy: 0.6137\n",
            "Epoch 41/100\n",
            "75/75 [==============================] - 233s 3s/step - loss: 0.9447 - accuracy: 0.6340 - val_loss: 0.9529 - val_accuracy: 0.6432\n",
            "Epoch 42/100\n",
            "75/75 [==============================] - 233s 3s/step - loss: 0.9469 - accuracy: 0.6269 - val_loss: 1.0580 - val_accuracy: 0.6076\n",
            "Epoch 43/100\n",
            "75/75 [==============================] - 233s 3s/step - loss: 0.9442 - accuracy: 0.6349 - val_loss: 0.9483 - val_accuracy: 0.6493\n",
            "Epoch 44/100\n",
            "75/75 [==============================] - 233s 3s/step - loss: 0.9572 - accuracy: 0.6267 - val_loss: 1.0253 - val_accuracy: 0.5833\n",
            "Epoch 45/100\n",
            "75/75 [==============================] - 234s 3s/step - loss: 0.9446 - accuracy: 0.6313 - val_loss: 0.9786 - val_accuracy: 0.6293\n",
            "Epoch 46/100\n",
            "75/75 [==============================] - 233s 3s/step - loss: 0.9465 - accuracy: 0.6351 - val_loss: 1.1249 - val_accuracy: 0.5720\n",
            "Epoch 47/100\n",
            "75/75 [==============================] - 233s 3s/step - loss: 0.9345 - accuracy: 0.6374 - val_loss: 0.9656 - val_accuracy: 0.6345\n",
            "Epoch 48/100\n",
            "75/75 [==============================] - 233s 3s/step - loss: 0.9507 - accuracy: 0.6261 - val_loss: 1.4590 - val_accuracy: 0.4384\n",
            "Epoch 49/100\n",
            "75/75 [==============================] - 233s 3s/step - loss: 0.9368 - accuracy: 0.6372 - val_loss: 0.9511 - val_accuracy: 0.6502\n",
            "Epoch 50/100\n",
            "75/75 [==============================] - 234s 3s/step - loss: 0.9335 - accuracy: 0.6349 - val_loss: 1.2555 - val_accuracy: 0.5686\n",
            "Epoch 51/100\n",
            "75/75 [==============================] - 233s 3s/step - loss: 0.9281 - accuracy: 0.6409 - val_loss: 0.9883 - val_accuracy: 0.6398\n",
            "Epoch 52/100\n",
            "75/75 [==============================] - 233s 3s/step - loss: 0.9416 - accuracy: 0.6309 - val_loss: 1.0730 - val_accuracy: 0.6120\n",
            "Epoch 53/100\n",
            "75/75 [==============================] - 233s 3s/step - loss: 0.9317 - accuracy: 0.6361 - val_loss: 1.0226 - val_accuracy: 0.6155\n",
            "Epoch 54/100\n",
            "75/75 [==============================] - 233s 3s/step - loss: 0.9195 - accuracy: 0.6401 - val_loss: 0.9450 - val_accuracy: 0.6519\n",
            "Epoch 55/100\n",
            "75/75 [==============================] - 233s 3s/step - loss: 0.9335 - accuracy: 0.6323 - val_loss: 1.1637 - val_accuracy: 0.5755\n",
            "Epoch 56/100\n",
            "75/75 [==============================] - 232s 3s/step - loss: 0.9262 - accuracy: 0.6340 - val_loss: 1.0568 - val_accuracy: 0.6059\n",
            "Epoch 57/100\n",
            "75/75 [==============================] - 232s 3s/step - loss: 0.9205 - accuracy: 0.6430 - val_loss: 1.0667 - val_accuracy: 0.6007\n",
            "Epoch 58/100\n",
            "75/75 [==============================] - 232s 3s/step - loss: 0.9336 - accuracy: 0.6340 - val_loss: 1.0143 - val_accuracy: 0.6146\n",
            "Epoch 59/100\n",
            "75/75 [==============================] - 233s 3s/step - loss: 0.9235 - accuracy: 0.6390 - val_loss: 1.1563 - val_accuracy: 0.5972\n",
            "Epoch 60/100\n",
            "75/75 [==============================] - 232s 3s/step - loss: 0.9197 - accuracy: 0.6416 - val_loss: 0.9768 - val_accuracy: 0.6363\n",
            "Epoch 61/100\n",
            "75/75 [==============================] - 232s 3s/step - loss: 0.9233 - accuracy: 0.6422 - val_loss: 1.3910 - val_accuracy: 0.5443\n",
            "Epoch 62/100\n",
            "75/75 [==============================] - 232s 3s/step - loss: 0.9193 - accuracy: 0.6367 - val_loss: 1.2168 - val_accuracy: 0.5165\n",
            "Epoch 63/100\n",
            "75/75 [==============================] - 232s 3s/step - loss: 0.9101 - accuracy: 0.6355 - val_loss: 1.0424 - val_accuracy: 0.6354\n",
            "Epoch 64/100\n",
            "75/75 [==============================] - 232s 3s/step - loss: 0.9137 - accuracy: 0.6397 - val_loss: 1.0643 - val_accuracy: 0.6007\n",
            "Epoch 65/100\n",
            "75/75 [==============================] - 232s 3s/step - loss: 0.9206 - accuracy: 0.6361 - val_loss: 1.0457 - val_accuracy: 0.6215\n",
            "Epoch 66/100\n",
            "75/75 [==============================] - 232s 3s/step - loss: 0.9096 - accuracy: 0.6447 - val_loss: 1.1081 - val_accuracy: 0.6267\n",
            "Epoch 67/100\n",
            "75/75 [==============================] - 234s 3s/step - loss: 0.9014 - accuracy: 0.6474 - val_loss: 1.0393 - val_accuracy: 0.6276\n",
            "Epoch 68/100\n",
            "75/75 [==============================] - 233s 3s/step - loss: 0.9077 - accuracy: 0.6420 - val_loss: 1.0030 - val_accuracy: 0.6085\n",
            "Epoch 69/100\n",
            "75/75 [==============================] - 234s 3s/step - loss: 0.9100 - accuracy: 0.6418 - val_loss: 0.9572 - val_accuracy: 0.6424\n",
            "Epoch 70/100\n",
            "75/75 [==============================] - 235s 3s/step - loss: 0.9012 - accuracy: 0.6503 - val_loss: 1.1144 - val_accuracy: 0.5998\n",
            "Epoch 71/100\n",
            "75/75 [==============================] - 234s 3s/step - loss: 0.9133 - accuracy: 0.6430 - val_loss: 0.9867 - val_accuracy: 0.6207\n",
            "Epoch 72/100\n",
            "75/75 [==============================] - 234s 3s/step - loss: 0.8999 - accuracy: 0.6451 - val_loss: 1.1347 - val_accuracy: 0.5651\n",
            "Epoch 73/100\n",
            "75/75 [==============================] - 236s 3s/step - loss: 0.8862 - accuracy: 0.6502 - val_loss: 1.0231 - val_accuracy: 0.6484\n",
            "Epoch 74/100\n",
            "75/75 [==============================] - 234s 3s/step - loss: 0.8929 - accuracy: 0.6491 - val_loss: 1.1410 - val_accuracy: 0.6111\n",
            "Epoch 75/100\n",
            "75/75 [==============================] - 233s 3s/step - loss: 0.9048 - accuracy: 0.6441 - val_loss: 1.4961 - val_accuracy: 0.4731\n",
            "Epoch 76/100\n",
            "75/75 [==============================] - 234s 3s/step - loss: 0.8888 - accuracy: 0.6489 - val_loss: 0.9750 - val_accuracy: 0.6484\n",
            "Epoch 77/100\n",
            "75/75 [==============================] - 233s 3s/step - loss: 0.8876 - accuracy: 0.6539 - val_loss: 1.2932 - val_accuracy: 0.4601\n",
            "Epoch 78/100\n",
            "75/75 [==============================] - 232s 3s/step - loss: 0.8913 - accuracy: 0.6533 - val_loss: 0.9760 - val_accuracy: 0.6181\n",
            "Epoch 79/100\n",
            "75/75 [==============================] - 232s 3s/step - loss: 0.8847 - accuracy: 0.6579 - val_loss: 1.0963 - val_accuracy: 0.5799\n",
            "Epoch 80/100\n",
            "75/75 [==============================] - 232s 3s/step - loss: 0.8933 - accuracy: 0.6470 - val_loss: 1.0673 - val_accuracy: 0.5712\n",
            "Epoch 81/100\n",
            "75/75 [==============================] - 233s 3s/step - loss: 0.8816 - accuracy: 0.6529 - val_loss: 1.0391 - val_accuracy: 0.6233\n",
            "Epoch 82/100\n",
            "75/75 [==============================] - 233s 3s/step - loss: 0.8871 - accuracy: 0.6591 - val_loss: 1.1963 - val_accuracy: 0.5226\n",
            "Epoch 83/100\n",
            "75/75 [==============================] - 233s 3s/step - loss: 0.8838 - accuracy: 0.6554 - val_loss: 1.5363 - val_accuracy: 0.4792\n",
            "Epoch 84/100\n",
            "75/75 [==============================] - 233s 3s/step - loss: 0.8804 - accuracy: 0.6556 - val_loss: 1.0921 - val_accuracy: 0.5747\n",
            "Epoch 85/100\n",
            "75/75 [==============================] - 233s 3s/step - loss: 0.8906 - accuracy: 0.6520 - val_loss: 1.0055 - val_accuracy: 0.6458\n",
            "Epoch 86/100\n",
            "75/75 [==============================] - 232s 3s/step - loss: 0.8794 - accuracy: 0.6554 - val_loss: 1.1014 - val_accuracy: 0.6050\n",
            "Epoch 87/100\n",
            "75/75 [==============================] - 232s 3s/step - loss: 0.8698 - accuracy: 0.6627 - val_loss: 1.5750 - val_accuracy: 0.4201\n",
            "Epoch 88/100\n",
            "75/75 [==============================] - 232s 3s/step - loss: 0.8793 - accuracy: 0.6514 - val_loss: 1.0239 - val_accuracy: 0.6207\n",
            "Epoch 89/100\n",
            "75/75 [==============================] - 232s 3s/step - loss: 0.8637 - accuracy: 0.6593 - val_loss: 1.1052 - val_accuracy: 0.5781\n",
            "Epoch 90/100\n",
            "75/75 [==============================] - 233s 3s/step - loss: 0.8577 - accuracy: 0.6660 - val_loss: 1.4311 - val_accuracy: 0.5330\n",
            "Epoch 91/100\n",
            "75/75 [==============================] - 232s 3s/step - loss: 0.8697 - accuracy: 0.6623 - val_loss: 1.0040 - val_accuracy: 0.6337\n",
            "Epoch 92/100\n",
            "75/75 [==============================] - 232s 3s/step - loss: 0.8675 - accuracy: 0.6610 - val_loss: 1.0722 - val_accuracy: 0.5955\n",
            "Epoch 93/100\n",
            "75/75 [==============================] - 233s 3s/step - loss: 0.8588 - accuracy: 0.6658 - val_loss: 1.2296 - val_accuracy: 0.5668\n",
            "Epoch 94/100\n",
            "75/75 [==============================] - 234s 3s/step - loss: 0.8659 - accuracy: 0.6635 - val_loss: 1.0383 - val_accuracy: 0.6137\n",
            "Epoch 95/100\n",
            "75/75 [==============================] - 234s 3s/step - loss: 0.8520 - accuracy: 0.6637 - val_loss: 1.0871 - val_accuracy: 0.6094\n",
            "Epoch 96/100\n",
            "75/75 [==============================] - 234s 3s/step - loss: 0.8550 - accuracy: 0.6637 - val_loss: 1.2704 - val_accuracy: 0.5799\n",
            "Epoch 97/100\n",
            "75/75 [==============================] - 234s 3s/step - loss: 0.8497 - accuracy: 0.6633 - val_loss: 1.2343 - val_accuracy: 0.5868\n",
            "Epoch 98/100\n",
            "75/75 [==============================] - 235s 3s/step - loss: 0.8466 - accuracy: 0.6736 - val_loss: 1.2808 - val_accuracy: 0.5530\n",
            "Epoch 99/100\n",
            "75/75 [==============================] - 233s 3s/step - loss: 0.8538 - accuracy: 0.6683 - val_loss: 1.4004 - val_accuracy: 0.5399\n",
            "Epoch 100/100\n",
            "75/75 [==============================] - 233s 3s/step - loss: 0.8459 - accuracy: 0.6738 - val_loss: 1.3395 - val_accuracy: 0.5278\n"
          ],
          "name": "stdout"
        }
      ]
    },
    {
      "cell_type": "markdown",
      "metadata": {
        "id": "Q_QaiJlDF7Et"
      },
      "source": [
        "### 5.4 Plot the Training Result of Vgg16 Model"
      ]
    },
    {
      "cell_type": "code",
      "metadata": {
        "colab": {
          "base_uri": "https://localhost:8080/"
        },
        "id": "MGQyKGMOoy-t",
        "outputId": "29ed943e-423a-4733-bea6-bb066ecb5d5c"
      },
      "source": [
        "out_put_df = pd.DataFrame({'Training Loss':history.history['loss'], \n",
        "                        'Validation Loss':history.history['val_loss'],\n",
        "                        'Training Accuracy': history.history['accuracy'],\n",
        "                        'Validation Accuracy':history.history['val_accuracy']})\n",
        "out_put = out_put.append(out_put_df, ignore_index=True)\n",
        "out_put.shape"
      ],
      "execution_count": 75,
      "outputs": [
        {
          "output_type": "execute_result",
          "data": {
            "text/plain": [
              "(150, 4)"
            ]
          },
          "metadata": {
            "tags": []
          },
          "execution_count": 75
        }
      ]
    },
    {
      "cell_type": "code",
      "metadata": {
        "id": "GarBMLPdX-ge",
        "colab": {
          "base_uri": "https://localhost:8080/",
          "height": 282
        },
        "outputId": "5c0d12bc-3490-4861-e8ab-55827878c102"
      },
      "source": [
        "plt.plot(out_put['Training Accuracy'], color='green', label = 'Training Accuracy')\n",
        "plt.plot(out_put['Validation Accuracy'], color='blue', label = 'Validation Accuracy')\n",
        "plt.legend()"
      ],
      "execution_count": 76,
      "outputs": [
        {
          "output_type": "execute_result",
          "data": {
            "text/plain": [
              "<matplotlib.legend.Legend at 0x7f3d6deebc90>"
            ]
          },
          "metadata": {
            "tags": []
          },
          "execution_count": 76
        },
        {
          "output_type": "display_data",
          "data": {
            "image/png": "[encoded data removed]",
            "text/plain": [
              "<Figure size 432x288 with 1 Axes>"
            ]
          },
          "metadata": {
            "tags": [],
            "needs_background": "light"
          }
        }
      ]
    },
    {
      "cell_type": "code",
      "metadata": {
        "id": "BDJ145zsDXm3",
        "colab": {
          "base_uri": "https://localhost:8080/",
          "height": 282
        },
        "outputId": "76d1861f-5108-4ad3-90e2-2d28a97f974a"
      },
      "source": [
        "plt.plot(out_put['Training Loss'], color='green', label = 'Training Loss')\n",
        "plt.plot(out_put['Validation Loss'], color='blue', label = 'Validation Loss')\n",
        "plt.legend()"
      ],
      "execution_count": 77,
      "outputs": [
        {
          "output_type": "execute_result",
          "data": {
            "text/plain": [
              "<matplotlib.legend.Legend at 0x7f3d6de6bfd0>"
            ]
          },
          "metadata": {
            "tags": []
          },
          "execution_count": 77
        },
        {
          "output_type": "display_data",
          "data": {
            "image/png": "[encoded data removed]",
            "text/plain": [
              "<Figure size 432x288 with 1 Axes>"
            ]
          },
          "metadata": {
            "tags": [],
            "needs_background": "light"
          }
        }
      ]
    },
    {
      "cell_type": "markdown",
      "metadata": {
        "id": "Re6BSnR6Pjo9"
      },
      "source": [
        "* The validation loss and accuracy are very unstable.\n",
        "\n",
        "* At about Epoch=90, the trend of the validtion accuracy is about to go down. \n",
        "\n",
        "* At about Epoch=90, the trend of the validtion loss is about to go up. \n",
        "\n",
        "* The model at about Epoch=90 started overfitting"
      ]
    },
    {
      "cell_type": "markdown",
      "metadata": {
        "id": "4pxheCgJHcfi"
      },
      "source": [
        "### 5.5 Save the Model"
      ]
    },
    {
      "cell_type": "code",
      "metadata": {
        "id": "i55mlZP1EhOV"
      },
      "source": [
        "model_path='/content/drive/MyDrive/DeepLearningModel/SIIM-FISABIO-RSNA_COVID-19_Detection/Model/'\n",
        "model.save(model_path+'Vgg16_224_64_1e-5.h5', save_format='h5')"
      ],
      "execution_count": 78,
      "outputs": []
    },
    {
      "cell_type": "markdown",
      "metadata": {
        "id": "eMe1EPhSXkSk"
      },
      "source": [
        "### 5.6 Load Model"
      ]
    },
    {
      "cell_type": "code",
      "metadata": {
        "id": "XBazL3O3Xpb9",
        "colab": {
          "base_uri": "https://localhost:8080/"
        },
        "outputId": "4d3bb49b-75d6-44a9-a400-783f84ad725a"
      },
      "source": [
        "# load model\n",
        "export_path = os.path.join(os.getcwd(), 'Vgg16_224_64_1e-5.h5')\n",
        "dependencies = {\n",
        "    'F1Score': f1Score\n",
        "}\n",
        "Model=models.load_model(export_path,custom_objects=dependencies)\n",
        "Model.summary()"
      ],
      "execution_count": 79,
      "outputs": [
        {
          "output_type": "stream",
          "text": [
            "Model: \"sequential_3\"\n",
            "_________________________________________________________________\n",
            "Layer (type)                 Output Shape              Param #   \n",
            "=================================================================\n",
            "vgg16 (Functional)           (None, 512)               14713536  \n",
            "_________________________________________________________________\n",
            "dense_9 (Dense)              (None, 512)               262656    \n",
            "_________________________________________________________________\n",
            "batch_normalization_6 (Batch (None, 512)               2048      \n",
            "_________________________________________________________________\n",
            "dropout_6 (Dropout)          (None, 512)               0         \n",
            "_________________________________________________________________\n",
            "dense_10 (Dense)             (None, 256)               131328    \n",
            "_________________________________________________________________\n",
            "batch_normalization_7 (Batch (None, 256)               1024      \n",
            "_________________________________________________________________\n",
            "dropout_7 (Dropout)          (None, 256)               0         \n",
            "_________________________________________________________________\n",
            "flatten_3 (Flatten)          (None, 256)               0         \n",
            "_________________________________________________________________\n",
            "dense_11 (Dense)             (None, 4)                 1028      \n",
            "=================================================================\n",
            "Total params: 15,111,620\n",
            "Trainable params: 15,110,084\n",
            "Non-trainable params: 1,536\n",
            "_________________________________________________________________\n"
          ],
          "name": "stdout"
        }
      ]
    },
    {
      "cell_type": "markdown",
      "metadata": {
        "id": "Mns7l-s4uFHO"
      },
      "source": [
        "## 6 Resnet50 Model"
      ]
    },
    {
      "cell_type": "code",
      "metadata": {
        "id": "U5mQZsNl056b"
      },
      "source": [
        "from tensorflow.keras.applications.resnet50 import ResNet50, preprocess_input\n",
        "from tensorflow.keras.callbacks import ModelCheckpoint"
      ],
      "execution_count": 10,
      "outputs": []
    },
    {
      "cell_type": "markdown",
      "metadata": {
        "id": "-B827f8bvRDe"
      },
      "source": [
        "### 6.1 Image Data Generation for Resnet50 "
      ]
    },
    {
      "cell_type": "code",
      "metadata": {
        "colab": {
          "base_uri": "https://localhost:8080/"
        },
        "id": "b8LvyjfDuEL0",
        "outputId": "fb10089a-4f00-47e8-bf62-b9d3b840d4fd"
      },
      "source": [
        "batch_size = 64\n",
        "\n",
        "# rescale each pixel into range [0,1]\n",
        "train_datagen = ImageDataGenerator(\n",
        "                             rescale=1./255,\n",
        "                             rotation_range = 15,\n",
        "                             width_shift_range=0.2,\n",
        "                             height_shift_range=0.2,\n",
        "                             #zoom_range=[0.5,1.0],\n",
        "                             #brightness_range=[0.5,1.0],\n",
        "                             horizontal_flip = True\n",
        "                             )\n",
        "test_datagen = ImageDataGenerator(rescale=1./255)\n",
        "\n",
        "train_set = train_datagen.flow_from_dataframe(\n",
        "    dataframe=train,\n",
        "    x_col='image_path',\n",
        "    y_col='image_class',\n",
        "    shuffle=True,\n",
        "    target_size=(224,224),\n",
        "    batch_size=batch_size,\n",
        "    color_mode='grayscale',\n",
        "    class_mode='categorical',\n",
        "    subset='training',\n",
        "    seed=1)\n",
        "\n",
        "validation_set = test_datagen.flow_from_dataframe(\n",
        "    dataframe=test,\n",
        "    x_col='image_path',\n",
        "    y_col='image_class', \n",
        "    shuffle=True,\n",
        "    target_size=(224,224),\n",
        "    batch_size=batch_size,\n",
        "    color_mode='grayscale',\n",
        "    class_mode='categorical',\n",
        "    #subset='validation',\n",
        "    seed=1)"
      ],
      "execution_count": 31,
      "outputs": [
        {
          "output_type": "stream",
          "text": [
            "Found 4843 validated image filenames belonging to 4 classes.\n",
            "Found 1211 validated image filenames belonging to 4 classes.\n"
          ],
          "name": "stdout"
        }
      ]
    },
    {
      "cell_type": "code",
      "metadata": {
        "colab": {
          "base_uri": "https://localhost:8080/"
        },
        "id": "mzlrGTeb3NZH",
        "outputId": "a0e38436-b9f8-4c3a-d729-bd2651b0c55b"
      },
      "source": [
        "train_set[0][0][0].shape"
      ],
      "execution_count": 12,
      "outputs": [
        {
          "output_type": "execute_result",
          "data": {
            "text/plain": [
              "(224, 224, 1)"
            ]
          },
          "metadata": {
            "tags": []
          },
          "execution_count": 12
        }
      ]
    },
    {
      "cell_type": "markdown",
      "metadata": {
        "id": "lgw2f60Dwz2Z"
      },
      "source": [
        "### 6.2 Create the Resnet50 Model"
      ]
    },
    {
      "cell_type": "code",
      "metadata": {
        "colab": {
          "base_uri": "https://localhost:8080/"
        },
        "id": "agMT9uaW3SGE",
        "outputId": "c92ed9c6-504e-49b8-eef1-aaabaa516187"
      },
      "source": [
        "resnet50 = ResNet50(include_top=False, \n",
        "                    weights=None,\n",
        "                    input_shape=(224,224,1))\n",
        "#resnet50.summary()\n",
        "\n",
        "# Adding some layers to the end of the resnet50 model\n",
        "\n",
        "model = Sequential([\n",
        "    resnet50,\n",
        "    Dense(512, activation='relu'),\n",
        "    BatchNormalization(),\n",
        "    Dropout(0.20),\n",
        "    #Dense(512, activation='relu'),\n",
        "    #BatchNormalization(),\n",
        "    #Dropout(0.35),\n",
        "    #Dense(256, activation='relu'),\n",
        "    #BatchNormalization(),\n",
        "    #Dropout(0.35),\n",
        "    Dense(256, activation='relu'),\n",
        "    BatchNormalization(),\n",
        "    Dropout(0.20),\n",
        "    #Dense(128, activation='relu'),\n",
        "    #BatchNormalization(),\n",
        "    #Dropout(0.35),\n",
        "    Flatten(),\n",
        "    Dense(4,activation='softmax')\n",
        "    ])\n",
        "\n",
        "model.summary()"
      ],
      "execution_count": 32,
      "outputs": [
        {
          "output_type": "stream",
          "text": [
            "Model: \"sequential_3\"\n",
            "_________________________________________________________________\n",
            "Layer (type)                 Output Shape              Param #   \n",
            "=================================================================\n",
            "resnet50 (Functional)        (None, 7, 7, 2048)        23581440  \n",
            "_________________________________________________________________\n",
            "dense_9 (Dense)              (None, 7, 7, 512)         1049088   \n",
            "_________________________________________________________________\n",
            "batch_normalization_6 (Batch (None, 7, 7, 512)         2048      \n",
            "_________________________________________________________________\n",
            "dropout_6 (Dropout)          (None, 7, 7, 512)         0         \n",
            "_________________________________________________________________\n",
            "dense_10 (Dense)             (None, 7, 7, 256)         131328    \n",
            "_________________________________________________________________\n",
            "batch_normalization_7 (Batch (None, 7, 7, 256)         1024      \n",
            "_________________________________________________________________\n",
            "dropout_7 (Dropout)          (None, 7, 7, 256)         0         \n",
            "_________________________________________________________________\n",
            "flatten_3 (Flatten)          (None, 12544)             0         \n",
            "_________________________________________________________________\n",
            "dense_11 (Dense)             (None, 4)                 50180     \n",
            "=================================================================\n",
            "Total params: 24,815,108\n",
            "Trainable params: 24,760,452\n",
            "Non-trainable params: 54,656\n",
            "_________________________________________________________________\n"
          ],
          "name": "stdout"
        }
      ]
    },
    {
      "cell_type": "markdown",
      "metadata": {
        "id": "gnUgwJQxxQTs"
      },
      "source": [
        "### 6.3 Train the Resnt50 Model"
      ]
    },
    {
      "cell_type": "code",
      "metadata": {
        "id": "0C9pU5zT43GS"
      },
      "source": [
        "f1Score = tfa.metrics.F1Score(num_classes=4, threshold=0.5, average='micro')\n",
        "\n",
        "model.compile(\n",
        "    optimizer = optimizers.Adam(learning_rate=0.00005), \n",
        "    loss = 'categorical_crossentropy',               \n",
        "    metrics=['accuracy'])#,f1Score])"
      ],
      "execution_count": 33,
      "outputs": []
    },
    {
      "cell_type": "code",
      "metadata": {
        "colab": {
          "base_uri": "https://localhost:8080/"
        },
        "id": "mFMP5pUE5ZLH",
        "outputId": "b29a40e8-2a4c-4368-dda7-8a806eecadd6"
      },
      "source": [
        "checkpoint_filepath = '/content/drive/MyDrive/DeepLearningModel/SIIM-FISABIO-RSNA_COVID-19_Detection/Model/'\n",
        "callback = ModelCheckpoint(filepath=checkpoint_filepath,\n",
        "                           save_weights_only=True,\n",
        "                           monitor='val_accuracy',\n",
        "                           mode='max',\n",
        "                           save_best_only=True)\n",
        "\n",
        "history = model.fit(train_set, \n",
        "                    validation_data = validation_set, \n",
        "                    steps_per_epoch=math.ceil(train_set.n//train_set.batch_size),\n",
        "                    validation_steps=validation_set.n//validation_set.batch_size,\n",
        "                    epochs = 50,\n",
        "                    callbacks=[callback])"
      ],
      "execution_count": 34,
      "outputs": [
        {
          "output_type": "stream",
          "text": [
            "Epoch 1/50\n",
            "75/75 [==============================] - 239s 3s/step - loss: 1.7678 - accuracy: 0.3624 - val_loss: 1.3616 - val_accuracy: 0.4878\n",
            "Epoch 2/50\n",
            "75/75 [==============================] - 229s 3s/step - loss: 1.6669 - accuracy: 0.3815 - val_loss: 1.3307 - val_accuracy: 0.4852\n",
            "Epoch 3/50\n",
            "75/75 [==============================] - 228s 3s/step - loss: 1.6037 - accuracy: 0.3921 - val_loss: 1.4691 - val_accuracy: 0.4826\n",
            "Epoch 4/50\n",
            "75/75 [==============================] - 227s 3s/step - loss: 1.5737 - accuracy: 0.3955 - val_loss: 1.4840 - val_accuracy: 0.4826\n",
            "Epoch 5/50\n",
            "75/75 [==============================] - 226s 3s/step - loss: 1.5515 - accuracy: 0.4177 - val_loss: 1.6092 - val_accuracy: 0.4792\n",
            "Epoch 6/50\n",
            "75/75 [==============================] - 226s 3s/step - loss: 1.5122 - accuracy: 0.4105 - val_loss: 1.4957 - val_accuracy: 0.4783\n",
            "Epoch 7/50\n",
            "75/75 [==============================] - 226s 3s/step - loss: 1.4600 - accuracy: 0.4229 - val_loss: 1.3393 - val_accuracy: 0.4757\n",
            "Epoch 8/50\n",
            "75/75 [==============================] - 226s 3s/step - loss: 1.4655 - accuracy: 0.4235 - val_loss: 1.3265 - val_accuracy: 0.4844\n",
            "Epoch 9/50\n",
            "75/75 [==============================] - 226s 3s/step - loss: 1.4434 - accuracy: 0.4329 - val_loss: 1.3336 - val_accuracy: 0.4818\n",
            "Epoch 10/50\n",
            "75/75 [==============================] - 228s 3s/step - loss: 1.4630 - accuracy: 0.4357 - val_loss: 1.2645 - val_accuracy: 0.4766\n",
            "Epoch 11/50\n",
            "75/75 [==============================] - 227s 3s/step - loss: 1.4074 - accuracy: 0.4331 - val_loss: 1.2355 - val_accuracy: 0.4948\n",
            "Epoch 12/50\n",
            "75/75 [==============================] - 230s 3s/step - loss: 1.4197 - accuracy: 0.4432 - val_loss: 1.2703 - val_accuracy: 0.5425\n",
            "Epoch 13/50\n",
            "75/75 [==============================] - 229s 3s/step - loss: 1.4042 - accuracy: 0.4451 - val_loss: 1.3095 - val_accuracy: 0.5191\n",
            "Epoch 14/50\n",
            "75/75 [==============================] - 230s 3s/step - loss: 1.3883 - accuracy: 0.4459 - val_loss: 1.3621 - val_accuracy: 0.5052\n",
            "Epoch 15/50\n",
            "75/75 [==============================] - 231s 3s/step - loss: 1.3803 - accuracy: 0.4618 - val_loss: 1.2880 - val_accuracy: 0.5174\n",
            "Epoch 16/50\n",
            "75/75 [==============================] - 230s 3s/step - loss: 1.3684 - accuracy: 0.4539 - val_loss: 1.3250 - val_accuracy: 0.5269\n",
            "Epoch 17/50\n",
            "75/75 [==============================] - 231s 3s/step - loss: 1.3848 - accuracy: 0.4543 - val_loss: 1.2617 - val_accuracy: 0.5069\n",
            "Epoch 18/50\n",
            "75/75 [==============================] - 232s 3s/step - loss: 1.3402 - accuracy: 0.4712 - val_loss: 1.4341 - val_accuracy: 0.5234\n",
            "Epoch 19/50\n",
            "75/75 [==============================] - 232s 3s/step - loss: 1.3668 - accuracy: 0.4691 - val_loss: 1.2869 - val_accuracy: 0.5278\n",
            "Epoch 20/50\n",
            "75/75 [==============================] - 232s 3s/step - loss: 1.3661 - accuracy: 0.4777 - val_loss: 1.3118 - val_accuracy: 0.5434\n",
            "Epoch 21/50\n",
            "75/75 [==============================] - 232s 3s/step - loss: 1.3547 - accuracy: 0.4788 - val_loss: 1.2358 - val_accuracy: 0.5425\n",
            "Epoch 22/50\n",
            "75/75 [==============================] - 231s 3s/step - loss: 1.3233 - accuracy: 0.4838 - val_loss: 1.3265 - val_accuracy: 0.5226\n",
            "Epoch 23/50\n",
            "75/75 [==============================] - 231s 3s/step - loss: 1.3195 - accuracy: 0.4832 - val_loss: 1.2356 - val_accuracy: 0.5339\n",
            "Epoch 24/50\n",
            "75/75 [==============================] - 232s 3s/step - loss: 1.3389 - accuracy: 0.4817 - val_loss: 1.2476 - val_accuracy: 0.5477\n",
            "Epoch 25/50\n",
            "75/75 [==============================] - 232s 3s/step - loss: 1.3349 - accuracy: 0.4852 - val_loss: 1.3002 - val_accuracy: 0.5113\n",
            "Epoch 26/50\n",
            "75/75 [==============================] - 233s 3s/step - loss: 1.3252 - accuracy: 0.4911 - val_loss: 1.2340 - val_accuracy: 0.5382\n",
            "Epoch 27/50\n",
            "75/75 [==============================] - 232s 3s/step - loss: 1.2996 - accuracy: 0.4984 - val_loss: 1.1951 - val_accuracy: 0.5408\n",
            "Epoch 28/50\n",
            "75/75 [==============================] - 231s 3s/step - loss: 1.3285 - accuracy: 0.4945 - val_loss: 1.2383 - val_accuracy: 0.5582\n",
            "Epoch 29/50\n",
            "75/75 [==============================] - 233s 3s/step - loss: 1.2955 - accuracy: 0.5116 - val_loss: 1.2630 - val_accuracy: 0.5460\n",
            "Epoch 30/50\n",
            "75/75 [==============================] - 231s 3s/step - loss: 1.2925 - accuracy: 0.5051 - val_loss: 1.2019 - val_accuracy: 0.5616\n",
            "Epoch 31/50\n",
            "75/75 [==============================] - 232s 3s/step - loss: 1.2805 - accuracy: 0.5150 - val_loss: 1.2716 - val_accuracy: 0.5399\n",
            "Epoch 32/50\n",
            "75/75 [==============================] - 232s 3s/step - loss: 1.2730 - accuracy: 0.5072 - val_loss: 1.2902 - val_accuracy: 0.5382\n",
            "Epoch 33/50\n",
            "75/75 [==============================] - 232s 3s/step - loss: 1.2838 - accuracy: 0.5191 - val_loss: 1.2167 - val_accuracy: 0.5356\n",
            "Epoch 34/50\n",
            "75/75 [==============================] - 233s 3s/step - loss: 1.2922 - accuracy: 0.5099 - val_loss: 1.1855 - val_accuracy: 0.5469\n",
            "Epoch 35/50\n",
            "75/75 [==============================] - 233s 3s/step - loss: 1.2548 - accuracy: 0.5231 - val_loss: 1.1717 - val_accuracy: 0.5799\n",
            "Epoch 36/50\n",
            "75/75 [==============================] - 235s 3s/step - loss: 1.2656 - accuracy: 0.5246 - val_loss: 1.2662 - val_accuracy: 0.5538\n",
            "Epoch 37/50\n",
            "75/75 [==============================] - 237s 3s/step - loss: 1.2273 - accuracy: 0.5294 - val_loss: 1.2323 - val_accuracy: 0.5417\n",
            "Epoch 38/50\n",
            "75/75 [==============================] - 236s 3s/step - loss: 1.2628 - accuracy: 0.5240 - val_loss: 1.2361 - val_accuracy: 0.5312\n",
            "Epoch 39/50\n",
            "75/75 [==============================] - 236s 3s/step - loss: 1.2583 - accuracy: 0.5210 - val_loss: 1.1716 - val_accuracy: 0.5634\n",
            "Epoch 40/50\n",
            "75/75 [==============================] - 240s 3s/step - loss: 1.2732 - accuracy: 0.5204 - val_loss: 1.1400 - val_accuracy: 0.5729\n",
            "Epoch 41/50\n",
            "75/75 [==============================] - 239s 3s/step - loss: 1.2559 - accuracy: 0.5227 - val_loss: 1.1938 - val_accuracy: 0.5365\n",
            "Epoch 42/50\n",
            "75/75 [==============================] - 239s 3s/step - loss: 1.2428 - accuracy: 0.5342 - val_loss: 1.1810 - val_accuracy: 0.5408\n",
            "Epoch 43/50\n",
            "75/75 [==============================] - 239s 3s/step - loss: 1.2457 - accuracy: 0.5261 - val_loss: 1.1822 - val_accuracy: 0.5747\n",
            "Epoch 44/50\n",
            "75/75 [==============================] - 239s 3s/step - loss: 1.2388 - accuracy: 0.5380 - val_loss: 1.2284 - val_accuracy: 0.5634\n",
            "Epoch 45/50\n",
            "75/75 [==============================] - 238s 3s/step - loss: 1.2319 - accuracy: 0.5470 - val_loss: 1.1892 - val_accuracy: 0.5738\n",
            "Epoch 46/50\n",
            "75/75 [==============================] - 239s 3s/step - loss: 1.2160 - accuracy: 0.5371 - val_loss: 1.1673 - val_accuracy: 0.5642\n",
            "Epoch 47/50\n",
            "75/75 [==============================] - 238s 3s/step - loss: 1.2245 - accuracy: 0.5457 - val_loss: 1.1892 - val_accuracy: 0.5512\n",
            "Epoch 48/50\n",
            "75/75 [==============================] - 239s 3s/step - loss: 1.1984 - accuracy: 0.5468 - val_loss: 1.1777 - val_accuracy: 0.5686\n",
            "Epoch 49/50\n",
            "75/75 [==============================] - 238s 3s/step - loss: 1.2068 - accuracy: 0.5499 - val_loss: 1.1362 - val_accuracy: 0.5920\n",
            "Epoch 50/50\n",
            "75/75 [==============================] - 241s 3s/step - loss: 1.2079 - accuracy: 0.5547 - val_loss: 1.1257 - val_accuracy: 0.5668\n"
          ],
          "name": "stdout"
        }
      ]
    },
    {
      "cell_type": "markdown",
      "metadata": {
        "id": "5S_L6nDMzQ8B"
      },
      "source": [
        "### 6.4 Plot the Training Result of Resnet50 Model"
      ]
    },
    {
      "cell_type": "code",
      "metadata": {
        "colab": {
          "base_uri": "https://localhost:8080/",
          "height": 283
        },
        "id": "7-BIJFVuzQ8H",
        "outputId": "c35b15b4-2db8-4973-df25-fc1cf7d402a0"
      },
      "source": [
        "plt.plot(history.history['accuracy'], color='green', label = 'Training Accuracy')\n",
        "plt.plot(history.history['val_accuracy'], color='blue', label = 'Validation Accuracy')\n",
        "plt.legend()"
      ],
      "execution_count": 35,
      "outputs": [
        {
          "output_type": "execute_result",
          "data": {
            "text/plain": [
              "<matplotlib.legend.Legend at 0x7f5ddd1c8390>"
            ]
          },
          "metadata": {
            "tags": []
          },
          "execution_count": 35
        },
        {
          "output_type": "display_data",
          "data": {
            "image/png": "[encoded data removed]",
            "text/plain": [
              "<Figure size 432x288 with 1 Axes>"
            ]
          },
          "metadata": {
            "tags": [],
            "needs_background": "light"
          }
        }
      ]
    },
    {
      "cell_type": "code",
      "metadata": {
        "colab": {
          "base_uri": "https://localhost:8080/",
          "height": 282
        },
        "id": "jeb64nBBzQ8I",
        "outputId": "96a385b0-e7ef-4566-a4e0-4cc8207d5d24"
      },
      "source": [
        "plt.plot(history.history['loss'], color='green', label = 'Training Loss')\n",
        "plt.plot(history.history['val_loss'], color='blue', label = 'Validation Loss')\n",
        "plt.legend()"
      ],
      "execution_count": 36,
      "outputs": [
        {
          "output_type": "execute_result",
          "data": {
            "text/plain": [
              "<matplotlib.legend.Legend at 0x7f5ddd1ba890>"
            ]
          },
          "metadata": {
            "tags": []
          },
          "execution_count": 36
        },
        {
          "output_type": "display_data",
          "data": {
            "image/png": "[encoded data removed]",
            "text/plain": [
              "<Figure size 432x288 with 1 Axes>"
            ]
          },
          "metadata": {
            "tags": [],
            "needs_background": "light"
          }
        }
      ]
    },
    {
      "cell_type": "markdown",
      "metadata": {
        "id": "FTyDoq9Q01s8"
      },
      "source": [
        "* According to the plot above, the training and validation loss have train to going down.\n",
        "* The results are more stable than the results of non-pre-trained vgg16 model. We can train more epoches on it. "
      ]
    },
    {
      "cell_type": "markdown",
      "metadata": {
        "id": "oiM2jrHR05pl"
      },
      "source": [
        "### 6.5 Save the Model"
      ]
    },
    {
      "cell_type": "code",
      "metadata": {
        "colab": {
          "base_uri": "https://localhost:8080/"
        },
        "id": "n9b80G0-05pm",
        "outputId": "231f8a59-8183-422a-c6cd-4a7e7b4b7bba"
      },
      "source": [
        "model_path='/content/drive/MyDrive/DeepLearningModel/SIIM-FISABIO-RSNA_COVID-19_Detection/Model/'\n",
        "model.save(model_path+'resnet50_224_5e-5(b64).h5')"
      ],
      "execution_count": 37,
      "outputs": [
        {
          "output_type": "stream",
          "text": [
            "/usr/local/lib/python3.7/dist-packages/tensorflow/python/keras/utils/generic_utils.py:497: CustomMaskWarning: Custom mask layers require a config and must override get_config. When loading, the custom mask layer must be passed to the custom_objects argument.\n",
            "  category=CustomMaskWarning)\n"
          ],
          "name": "stderr"
        }
      ]
    },
    {
      "cell_type": "markdown",
      "metadata": {
        "id": "rXLvHP121Sty"
      },
      "source": [
        "### 6.6 Load Model"
      ]
    },
    {
      "cell_type": "code",
      "metadata": {
        "id": "WNOOJoa01Stz",
        "colab": {
          "base_uri": "https://localhost:8080/"
        },
        "outputId": "411cfa5b-81da-4c56-9e2d-1a1466b738ba"
      },
      "source": [
        "# load model\n",
        "savedModel=models.load_model(model_path+'resnet50_224_1e-5(b64).h5')\n",
        "savedModel.summary()"
      ],
      "execution_count": 25,
      "outputs": [
        {
          "output_type": "stream",
          "text": [
            "Model: \"sequential_2\"\n",
            "_________________________________________________________________\n",
            "Layer (type)                 Output Shape              Param #   \n",
            "=================================================================\n",
            "resnet50 (Functional)        (None, 7, 7, 2048)        23581440  \n",
            "_________________________________________________________________\n",
            "dense_6 (Dense)              (None, 7, 7, 512)         1049088   \n",
            "_________________________________________________________________\n",
            "batch_normalization_4 (Batch (None, 7, 7, 512)         2048      \n",
            "_________________________________________________________________\n",
            "dropout_4 (Dropout)          (None, 7, 7, 512)         0         \n",
            "_________________________________________________________________\n",
            "dense_7 (Dense)              (None, 7, 7, 256)         131328    \n",
            "_________________________________________________________________\n",
            "batch_normalization_5 (Batch (None, 7, 7, 256)         1024      \n",
            "_________________________________________________________________\n",
            "dropout_5 (Dropout)          (None, 7, 7, 256)         0         \n",
            "_________________________________________________________________\n",
            "flatten_2 (Flatten)          (None, 12544)             0         \n",
            "_________________________________________________________________\n",
            "dense_8 (Dense)              (None, 4)                 50180     \n",
            "=================================================================\n",
            "Total params: 24,815,108\n",
            "Trainable params: 24,760,452\n",
            "Non-trainable params: 54,656\n",
            "_________________________________________________________________\n"
          ],
          "name": "stdout"
        }
      ]
    },
    {
      "cell_type": "markdown",
      "metadata": {
        "id": "mXc46WAD94wQ"
      },
      "source": [
        "## 7 Pre-trained Vgg16 Model"
      ]
    },
    {
      "cell_type": "markdown",
      "metadata": {
        "id": "Tq48QQ5JvKy9"
      },
      "source": [
        "### 7.1 Image Data Generation for Resnet50 "
      ]
    },
    {
      "cell_type": "code",
      "metadata": {
        "colab": {
          "base_uri": "https://localhost:8080/"
        },
        "id": "VQSQybjbDyX2",
        "outputId": "ec41fca8-5108-496b-9466-ab5aacaa7cf1"
      },
      "source": [
        "BATCH_SIZE = 32\n",
        "\n",
        "dataflow_kwargs = dict(\n",
        "                       target_size=(224, 224),\n",
        "                       batch_size=BATCH_SIZE,\n",
        "                       interpolation=\"lanczos\"\n",
        "                      )\n",
        "\n",
        "\n",
        "valid_datagen = ImageDataGenerator(preprocessing_function=preprocess_input,\n",
        "                                   validation_split=0.9999)\n",
        "\n",
        "valid_generator = valid_datagen.flow_from_dataframe(dataframe=test,\n",
        "                                                    x_col='image_path',\n",
        "                                                    y_col='image_class',\n",
        "                                                    subset=\"validation\",\n",
        "                                                    shuffle=True,\n",
        "                                                    seed=42,\n",
        "                                                    **dataflow_kwargs)\n",
        "\n",
        "train_datagen = ImageDataGenerator(rotation_range=40,\n",
        "                                   horizontal_flip=True,\n",
        "                                   width_shift_range=0.2,\n",
        "                                   height_shift_range=0.2,\n",
        "                                   shear_range=0.2,\n",
        "                                   zoom_range=0.2,\n",
        "                                   preprocessing_function=preprocess_input)\n",
        "\n",
        "train_generator = train_datagen.flow_from_dataframe(dataframe=train,\n",
        "                                                    x_col='image_path',\n",
        "                                                    y_col='image_class',\n",
        "                                                    subset=\"training\",\n",
        "                                                    shuffle=True,\n",
        "                                                    seed=42,\n",
        "                                                    **dataflow_kwargs)\n",
        "\n",
        "print('classes :', train_generator.class_indices)"
      ],
      "execution_count": 101,
      "outputs": [
        {
          "output_type": "stream",
          "text": [
            "Found 1210 validated image filenames belonging to 4 classes.\n",
            "Found 4843 validated image filenames belonging to 4 classes.\n",
            "classes : {'Atypical Appearance': 0, 'Indeterminate Appearance': 1, 'Negative for Pneumonia': 2, 'Typical Appearance': 3}\n"
          ],
          "name": "stdout"
        }
      ]
    },
    {
      "cell_type": "markdown",
      "metadata": {
        "id": "P12jWtlWvSsL"
      },
      "source": [
        "### 7.2 Create the Vgg16 Model and Load the Weights\n"
      ]
    },
    {
      "cell_type": "code",
      "metadata": {
        "id": "nBi3xWWDAK3X"
      },
      "source": [
        "base_model = VGG16(input_shape=(224,224,3), \n",
        "                         include_top=False,\n",
        "                         weights=\"imagenet\")\n",
        "\n",
        "\n",
        "for layer in base_model.layers:\n",
        "    layer.trainable=False"
      ],
      "execution_count": 102,
      "outputs": []
    },
    {
      "cell_type": "code",
      "metadata": {
        "id": "UtIHbZKXATof"
      },
      "source": [
        "#Adding layers to the end of the vgg16 moedl\n",
        "model=Sequential()\n",
        "model.add(base_model)\n",
        "model.add(Dropout(0.5))\n",
        "model.add(Flatten())\n",
        "model.add(BatchNormalization())\n",
        "model.add(Dense(2048,kernel_initializer='he_uniform'))\n",
        "model.add(BatchNormalization())\n",
        "model.add(Activation('relu'))\n",
        "model.add(Dropout(0.5))\n",
        "model.add(Dense(1024,kernel_initializer='he_uniform'))\n",
        "model.add(BatchNormalization())\n",
        "model.add(Activation('relu'))\n",
        "model.add(Dropout(0.5))\n",
        "model.add(Dense(4,activation='softmax'))"
      ],
      "execution_count": 103,
      "outputs": []
    },
    {
      "cell_type": "markdown",
      "metadata": {
        "id": "4aoDxldGv1No"
      },
      "source": [
        "### 7.3 Train the Model"
      ]
    },
    {
      "cell_type": "code",
      "metadata": {
        "id": "JlJFjXRvAqSb"
      },
      "source": [
        "filepath = model_path+'best_weights.hdf5'\n",
        "\n",
        "earlystopping = EarlyStopping(monitor = 'val_auc', \n",
        "                              mode = 'max' , \n",
        "                              patience = 15,\n",
        "                              verbose = 1)\n",
        "\n",
        "checkpoint    = ModelCheckpoint(filepath, \n",
        "                                monitor = 'val_auc', \n",
        "                                mode='max', \n",
        "                                save_best_only=True, \n",
        "                                verbose = 1)\n",
        "\n",
        "callback_list = [earlystopping, checkpoint]"
      ],
      "execution_count": 108,
      "outputs": []
    },
    {
      "cell_type": "code",
      "metadata": {
        "colab": {
          "base_uri": "https://localhost:8080/"
        },
        "id": "NuT63lkCwDco",
        "outputId": "e3b20337-5262-4042-b776-b4729b422798"
      },
      "source": [
        "OPT = Adam(lr=0.001)\n",
        "\n",
        "model.compile(loss='categorical_crossentropy',\n",
        "              metrics=[AUC(name = 'auc'), 'accuracy'],\n",
        "              optimizer=OPT)"
      ],
      "execution_count": null,
      "outputs": [
        {
          "output_type": "stream",
          "text": [
            "/usr/local/lib/python3.7/dist-packages/tensorflow/python/keras/optimizer_v2/optimizer_v2.py:375: UserWarning: The `lr` argument is deprecated, use `learning_rate` instead.\n",
            "  \"The `lr` argument is deprecated, use `learning_rate` instead.\")\n"
          ],
          "name": "stderr"
        }
      ]
    },
    {
      "cell_type": "code",
      "metadata": {
        "colab": {
          "base_uri": "https://localhost:8080/"
        },
        "id": "jCR3dcuuAseS",
        "outputId": "aa31ed60-e2af-4242-9a78-0d3a7c9579e3"
      },
      "source": [
        "model_history=model.fit(train_generator,\n",
        "                        validation_data=valid_generator,\n",
        "                        epochs = 50,\n",
        "                        callbacks = callback_list,\n",
        "                        verbose = 1)"
      ],
      "execution_count": null,
      "outputs": [
        {
          "output_type": "stream",
          "text": [
            "Epoch 1/50\n",
            "152/152 [==============================] - 773s 5s/step - loss: 1.3667 - auc: 0.7366 - accuracy: 0.4947 - val_loss: 1.5833 - val_auc: 0.7438 - val_accuracy: 0.5314\n",
            "\n",
            "Epoch 00001: val_auc improved from -inf to 0.74384, saving model to /content/drive/MyDrive/DeepLearningModel/SIIM-FISABIO-RSNA_COVID-19_Detection/Model/best_weights.hdf5\n",
            "Epoch 2/50\n",
            "152/152 [==============================] - 773s 5s/step - loss: 1.2076 - auc: 0.7664 - accuracy: 0.5389 - val_loss: 1.2168 - val_auc: 0.7553 - val_accuracy: 0.5413\n",
            "\n",
            "Epoch 00002: val_auc improved from 0.74384 to 0.75530, saving model to /content/drive/MyDrive/DeepLearningModel/SIIM-FISABIO-RSNA_COVID-19_Detection/Model/best_weights.hdf5\n",
            "Epoch 3/50\n",
            "152/152 [==============================] - 770s 5s/step - loss: 1.1479 - auc: 0.7749 - accuracy: 0.5447 - val_loss: 1.0844 - val_auc: 0.8114 - val_accuracy: 0.6099\n",
            "\n",
            "Epoch 00003: val_auc improved from 0.75530 to 0.81136, saving model to /content/drive/MyDrive/DeepLearningModel/SIIM-FISABIO-RSNA_COVID-19_Detection/Model/best_weights.hdf5\n",
            "Epoch 4/50\n",
            "152/152 [==============================] - 771s 5s/step - loss: 1.1261 - auc: 0.7831 - accuracy: 0.5594 - val_loss: 1.0433 - val_auc: 0.8160 - val_accuracy: 0.6124\n",
            "\n",
            "Epoch 00004: val_auc improved from 0.81136 to 0.81597, saving model to /content/drive/MyDrive/DeepLearningModel/SIIM-FISABIO-RSNA_COVID-19_Detection/Model/best_weights.hdf5\n",
            "Epoch 5/50\n",
            "152/152 [==============================] - 769s 5s/step - loss: 1.1066 - auc: 0.7875 - accuracy: 0.5654 - val_loss: 1.0326 - val_auc: 0.8135 - val_accuracy: 0.6066\n",
            "\n",
            "Epoch 00005: val_auc did not improve from 0.81597\n",
            "Epoch 6/50\n",
            "152/152 [==============================] - 768s 5s/step - loss: 1.0839 - auc: 0.7949 - accuracy: 0.5728 - val_loss: 1.1133 - val_auc: 0.7815 - val_accuracy: 0.5579\n",
            "\n",
            "Epoch 00006: val_auc did not improve from 0.81597\n",
            "Epoch 7/50\n",
            "152/152 [==============================] - 769s 5s/step - loss: 1.0746 - auc: 0.7989 - accuracy: 0.5773 - val_loss: 1.0286 - val_auc: 0.8156 - val_accuracy: 0.6033\n",
            "\n",
            "Epoch 00007: val_auc did not improve from 0.81597\n",
            "Epoch 8/50\n",
            "152/152 [==============================] - 769s 5s/step - loss: 1.0703 - auc: 0.7988 - accuracy: 0.5835 - val_loss: 1.0741 - val_auc: 0.7939 - val_accuracy: 0.5942\n",
            "\n",
            "Epoch 00008: val_auc did not improve from 0.81597\n",
            "Epoch 9/50\n",
            "152/152 [==============================] - 769s 5s/step - loss: 1.0761 - auc: 0.7973 - accuracy: 0.5879 - val_loss: 1.0498 - val_auc: 0.8185 - val_accuracy: 0.6165\n",
            "\n",
            "Epoch 00009: val_auc improved from 0.81597 to 0.81851, saving model to /content/drive/MyDrive/DeepLearningModel/SIIM-FISABIO-RSNA_COVID-19_Detection/Model/best_weights.hdf5\n",
            "Epoch 10/50\n",
            "152/152 [==============================] - 772s 5s/step - loss: 1.0561 - auc: 0.8029 - accuracy: 0.5740 - val_loss: 1.0731 - val_auc: 0.8050 - val_accuracy: 0.5967\n",
            "\n",
            "Epoch 00010: val_auc did not improve from 0.81851\n",
            "Epoch 11/50\n",
            "152/152 [==============================] - 773s 5s/step - loss: 1.0619 - auc: 0.8035 - accuracy: 0.5767 - val_loss: 1.0362 - val_auc: 0.8214 - val_accuracy: 0.6322\n",
            "\n",
            "Epoch 00011: val_auc improved from 0.81851 to 0.82144, saving model to /content/drive/MyDrive/DeepLearningModel/SIIM-FISABIO-RSNA_COVID-19_Detection/Model/best_weights.hdf5\n",
            "Epoch 12/50\n",
            "152/152 [==============================] - 771s 5s/step - loss: 1.0530 - auc: 0.8060 - accuracy: 0.5817 - val_loss: 1.0296 - val_auc: 0.8161 - val_accuracy: 0.6264\n",
            "\n",
            "Epoch 00012: val_auc did not improve from 0.82144\n",
            "Epoch 13/50\n",
            "152/152 [==============================] - 768s 5s/step - loss: 1.0454 - auc: 0.8082 - accuracy: 0.5769 - val_loss: 1.0646 - val_auc: 0.8126 - val_accuracy: 0.6256\n",
            "\n",
            "Epoch 00013: val_auc did not improve from 0.82144\n",
            "Epoch 14/50\n",
            "152/152 [==============================] - 769s 5s/step - loss: 1.0551 - auc: 0.8038 - accuracy: 0.5825 - val_loss: 1.0427 - val_auc: 0.8155 - val_accuracy: 0.6041\n",
            "\n",
            "Epoch 00014: val_auc did not improve from 0.82144\n",
            "Epoch 15/50\n",
            "152/152 [==============================] - 768s 5s/step - loss: 1.0546 - auc: 0.8059 - accuracy: 0.5852 - val_loss: 1.0383 - val_auc: 0.8173 - val_accuracy: 0.6157\n",
            "\n",
            "Epoch 00015: val_auc did not improve from 0.82144\n",
            "Epoch 16/50\n",
            "152/152 [==============================] - 768s 5s/step - loss: 1.0374 - auc: 0.8110 - accuracy: 0.5918 - val_loss: 1.0588 - val_auc: 0.8075 - val_accuracy: 0.6033\n",
            "\n",
            "Epoch 00016: val_auc did not improve from 0.82144\n",
            "Epoch 17/50\n",
            "152/152 [==============================] - 770s 5s/step - loss: 1.0415 - auc: 0.8096 - accuracy: 0.5916 - val_loss: 1.0714 - val_auc: 0.8126 - val_accuracy: 0.6074\n",
            "\n",
            "Epoch 00017: val_auc did not improve from 0.82144\n",
            "Epoch 18/50\n",
            "152/152 [==============================] - 769s 5s/step - loss: 1.0448 - auc: 0.8092 - accuracy: 0.5887 - val_loss: 1.0639 - val_auc: 0.8146 - val_accuracy: 0.6132\n",
            "\n",
            "Epoch 00018: val_auc did not improve from 0.82144\n",
            "Epoch 19/50\n",
            "152/152 [==============================] - 770s 5s/step - loss: 1.0310 - auc: 0.8145 - accuracy: 0.5922 - val_loss: 1.1331 - val_auc: 0.7981 - val_accuracy: 0.6091\n",
            "\n",
            "Epoch 00019: val_auc did not improve from 0.82144\n",
            "Epoch 20/50\n",
            "152/152 [==============================] - 770s 5s/step - loss: 1.0481 - auc: 0.8070 - accuracy: 0.5887 - val_loss: 1.0733 - val_auc: 0.8036 - val_accuracy: 0.6099\n",
            "\n",
            "Epoch 00020: val_auc did not improve from 0.82144\n",
            "Epoch 21/50\n",
            "152/152 [==============================] - 760s 5s/step - loss: 1.0365 - auc: 0.8118 - accuracy: 0.5963 - val_loss: 1.0219 - val_auc: 0.8174 - val_accuracy: 0.6074\n",
            "\n",
            "Epoch 00021: val_auc did not improve from 0.82144\n",
            "Epoch 22/50\n",
            "152/152 [==============================] - 752s 5s/step - loss: 1.0244 - auc: 0.8154 - accuracy: 0.5959 - val_loss: 1.0045 - val_auc: 0.8240 - val_accuracy: 0.6289\n",
            "\n",
            "Epoch 00022: val_auc improved from 0.82144 to 0.82399, saving model to /content/drive/MyDrive/DeepLearningModel/SIIM-FISABIO-RSNA_COVID-19_Detection/Model/best_weights.hdf5\n",
            "Epoch 23/50\n",
            "152/152 [==============================] - 756s 5s/step - loss: 1.0027 - auc: 0.8235 - accuracy: 0.6023 - val_loss: 1.0513 - val_auc: 0.8129 - val_accuracy: 0.6174\n",
            "\n",
            "Epoch 00023: val_auc did not improve from 0.82399\n",
            "Epoch 24/50\n",
            "152/152 [==============================] - 754s 5s/step - loss: 1.0187 - auc: 0.8183 - accuracy: 0.5974 - val_loss: 1.0162 - val_auc: 0.8232 - val_accuracy: 0.6215\n",
            "\n",
            "Epoch 00024: val_auc did not improve from 0.82399\n",
            "Epoch 25/50\n",
            "152/152 [==============================] - 753s 5s/step - loss: 1.0105 - auc: 0.8216 - accuracy: 0.5984 - val_loss: 0.9940 - val_auc: 0.8287 - val_accuracy: 0.6190\n",
            "\n",
            "Epoch 00025: val_auc improved from 0.82399 to 0.82873, saving model to /content/drive/MyDrive/DeepLearningModel/SIIM-FISABIO-RSNA_COVID-19_Detection/Model/best_weights.hdf5\n",
            "Epoch 26/50\n",
            " 81/152 [==============>...............] - ETA: 4:50 - loss: 1.0126 - auc: 0.8197 - accuracy: 0.6038"
          ],
          "name": "stdout"
        }
      ]
    },
    {
      "cell_type": "markdown",
      "metadata": {
        "id": "XLeNNd_-wXzg"
      },
      "source": [
        "### 7.4 Plot the Training Result of the Pre-trained Vgg16 Model"
      ]
    },
    {
      "cell_type": "code",
      "metadata": {
        "colab": {
          "base_uri": "https://localhost:8080/",
          "height": 283
        },
        "id": "ULmK_fB3wXzh",
        "outputId": "c35b15b4-2db8-4973-df25-fc1cf7d402a0"
      },
      "source": [
        "plt.plot(model_history['accuracy'], color='green', label = 'Training Accuracy')\n",
        "plt.plot(model_history['val_accuracy'], color='blue', label = 'Validation Accuracy')\n",
        "plt.legend()"
      ],
      "execution_count": null,
      "outputs": [
        {
          "output_type": "execute_result",
          "data": {
            "text/plain": [
              "<matplotlib.legend.Legend at 0x7f5ddd1c8390>"
            ]
          },
          "metadata": {
            "tags": []
          },
          "execution_count": 35
        },
        {
          "output_type": "display_data",
          "data": {
            "image/png": "[encoded data removed]",
            "text/plain": [
              "<Figure size 432x288 with 1 Axes>"
            ]
          },
          "metadata": {
            "tags": [],
            "needs_background": "light"
          }
        }
      ]
    },
    {
      "cell_type": "code",
      "metadata": {
        "colab": {
          "base_uri": "https://localhost:8080/",
          "height": 282
        },
        "id": "ot4uLS5XwXzi",
        "outputId": "96a385b0-e7ef-4566-a4e0-4cc8207d5d24"
      },
      "source": [
        "plt.plot(model_history['loss'], color='green', label = 'Training Loss')\n",
        "plt.plot(model_history['val_loss'], color='blue', label = 'Validation Loss')\n",
        "plt.legend()"
      ],
      "execution_count": null,
      "outputs": [
        {
          "output_type": "execute_result",
          "data": {
            "text/plain": [
              "<matplotlib.legend.Legend at 0x7f5ddd1ba890>"
            ]
          },
          "metadata": {
            "tags": []
          },
          "execution_count": 36
        },
        {
          "output_type": "display_data",
          "data": {
            "image/png": "[encoded data removed]",
            "text/plain": [
              "<Figure size 432x288 with 1 Axes>"
            ]
          },
          "metadata": {
            "tags": [],
            "needs_background": "light"
          }
        }
      ]
    },
    {
      "cell_type": "markdown",
      "metadata": {
        "id": "s1KDUHVM4e-v"
      },
      "source": [
        "* Pre-trained Vgg16 Model produce the best outcome so far. It got a val_auc=0.8287 and val_accuracy=0.6190, but still need further training."
      ]
    },
    {
      "cell_type": "code",
      "metadata": {
        "id": "BZQf29xV48lW"
      },
      "source": [
        ""
      ],
      "execution_count": null,
      "outputs": []
    }
  ]
}